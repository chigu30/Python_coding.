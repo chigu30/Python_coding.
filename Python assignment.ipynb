{
 "cells": [
  {
   "cell_type": "code",
   "execution_count": 1,
   "id": "56475144",
   "metadata": {},
   "outputs": [
    {
     "name": "stdout",
     "output_type": "stream",
     "text": [
      "'\n",
      "'\n"
     ]
    }
   ],
   "source": [
    "# Q1. How can we store a single quote (‘) as a string in a variable ?\n",
    "\n",
    "\n",
    "# we can store a single quote as a string value in python in two types\n",
    "\n",
    "# using single quote & escape character\n",
    "\n",
    "single_quote_1 = '\\''\n",
    "\n",
    "print (single_quote_1)\n",
    "\n",
    "# using double quotes\n",
    "\n",
    "single_quote_2 = \"'\"\n",
    "\n",
    "print (single_quote_2)"
   ]
  },
  {
   "cell_type": "code",
   "execution_count": null,
   "id": "08a1b624",
   "metadata": {},
   "outputs": [],
   "source": [
    "# Q2 Refer the below variable : x = 'a' Here, is x a character type or str1ng type variable? Support your answer w1th an explanation.\n",
    "\n",
    "# Based on the given information, the variable \"x\" is a character type or string type variable.\n",
    "# In Python, a single character is considered a string of length 1. Therefore, when the variable \"x\" is assigned the value 'a', it represents a string containing a single character 'a'. Even though it consists of only one character, it is still considered a string because it is enclosed within single quotes ('').\n",
    "\n"
   ]
  },
  {
   "cell_type": "code",
   "execution_count": 2,
   "id": "cb32d9ce",
   "metadata": {},
   "outputs": [
    {
     "name": "stdout",
     "output_type": "stream",
     "text": [
      "11\n",
      "6\n",
      "35\n",
      "Welcome to Python foundation course\n"
     ]
    }
   ],
   "source": [
    "# Q3 Apply the following functions on this variable: ‘Welcome to Python foundation course'\n",
    "# 1. find()\n",
    "# 2. count()\n",
    "# 3. len()\n",
    "# 4. Concatenation\n",
    "# Note: You can use your choice of parameters. But make sure it is correct.\n",
    "\n",
    "\n",
    "string = 'Welcome to Python foundation course'\n",
    "index = string.find('Python')\n",
    "print(index)\n",
    "\n",
    "\n",
    "string = 'Welcome to Python foundation course'\n",
    "count = string.count('o')\n",
    "print(count)\n",
    "\n",
    "\n",
    "string = 'Welcome to Python foundation course'\n",
    "length = len(string)\n",
    "print(length)\n",
    "\n",
    "\n",
    "string1 = 'Welcome to '\n",
    "string2 = 'Python foundation course'\n",
    "result = string1 + string2\n",
    "print(result)\n"
   ]
  },
  {
   "cell_type": "code",
   "execution_count": 3,
   "id": "03f5ae77",
   "metadata": {},
   "outputs": [
    {
     "name": "stdout",
     "output_type": "stream",
     "text": [
      "Total number of lowercase alphabets: 4\n",
      "Total number of uppercase alphabets: 2\n",
      "Total number of numerical digits: 5\n"
     ]
    }
   ],
   "source": [
    "# Q4 For the variable: word= ‘PanaJi@12256\n",
    "# Calculate the following:\n",
    "# (a) Total number of alphabets in lowercase\n",
    "# (b) Total number of alphabets in uppercase\n",
    "# (c) Total number of numer1cal in str1ng\n",
    "\n",
    "word = 'PanaJi@12256'\n",
    "\n",
    "lowercase_count = 0\n",
    "uppercase_count = 0\n",
    "numeric_count = 0\n",
    "\n",
    "for char in word:\n",
    "    if char.islower():\n",
    "        lowercase_count += 1\n",
    "    elif char.isupper():\n",
    "        uppercase_count += 1\n",
    "    elif char.isnumeric():\n",
    "        numeric_count += 1\n",
    "\n",
    "print(\"Total number of lowercase alphabets:\", lowercase_count)\n",
    "print(\"Total number of uppercase alphabets:\", uppercase_count)\n",
    "print(\"Total number of numerical digits:\", numeric_count)\n"
   ]
  },
  {
   "cell_type": "code",
   "execution_count": 4,
   "id": "6124e24a",
   "metadata": {},
   "outputs": [
    {
     "name": "stdout",
     "output_type": "stream",
     "text": [
      "Number variable type: <class 'int'>\n",
      "Number as string variable type: <class 'str'>\n"
     ]
    }
   ],
   "source": [
    "# Q5 Wr1te a co e to store a numer1cal value 1nsi e a variable then convert it into string.\n",
    "\n",
    "# Storing a numerical value in a variable\n",
    "number = 42\n",
    "\n",
    "# Converting the numerical value to a string\n",
    "number_as_string = str(number)\n",
    "\n",
    "# Checking the data types\n",
    "print(\"Number variable type:\", type(number))\n",
    "print(\"Number as string variable type:\", type(number_as_string))\n"
   ]
  },
  {
   "cell_type": "code",
   "execution_count": null,
   "id": "d447fdc0",
   "metadata": {},
   "outputs": [],
   "source": []
  }
 ],
 "metadata": {
  "kernelspec": {
   "display_name": "Python 3 (ipykernel)",
   "language": "python",
   "name": "python3"
  },
  "language_info": {
   "codemirror_mode": {
    "name": "ipython",
    "version": 3
   },
   "file_extension": ".py",
   "mimetype": "text/x-python",
   "name": "python",
   "nbconvert_exporter": "python",
   "pygments_lexer": "ipython3",
   "version": "3.9.13"
  }
 },
 "nbformat": 4,
 "nbformat_minor": 5
}

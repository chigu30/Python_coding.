{
 "cells": [
  {
   "cell_type": "code",
   "execution_count": 9,
   "id": "e43c2284",
   "metadata": {},
   "outputs": [],
   "source": [
    "# Q1. Create one variable containing following type of data:\n",
    "# (i) string\n",
    "# (ii) list\n",
    "# (iii) float\n",
    "# (iv) tuple\n",
    "\n",
    "_string = 'laxmikanta'\n",
    "\n",
    "_list = ['laxmikanta','sahoo',3,4,5,6,9.876,5.43,True]\n",
    "\n",
    "_float = 3.56\n",
    "\n",
    "_tuple = ('laxmikanta',23,56,False)"
   ]
  },
  {
   "cell_type": "code",
   "execution_count": 33,
   "id": "77ef6f3a",
   "metadata": {},
   "outputs": [],
   "source": [
    "# Q2. Given are some following variables containing data:\n",
    "# (i) var1 = ''\n",
    "# (ii) var2 = ‘[ DS , ML , Python]’\n",
    "# (iii) var3 = [ ‘DS’ , ’ML’ , ‘Python’ ]\n",
    "# (iv) var4 = 1.\n",
    "# What will be the data type of the above given variable.\n",
    "\n",
    "var1 = '' # string\n",
    "\n",
    "var2 = '[ DS , ML , Python]' # string\n",
    "\n",
    "var3 = [ 'DS' , 'ML' , 'Python'] #list\n",
    "\n",
    "var4 = 1. # float"
   ]
  },
  {
   "cell_type": "code",
   "execution_count": 32,
   "id": "8857460b",
   "metadata": {},
   "outputs": [
    {
     "name": "stdout",
     "output_type": "stream",
     "text": [
      "6.0\n",
      "0\n",
      "5\n",
      "25\n"
     ]
    }
   ],
   "source": [
    "# Q3. Explain the use of the following operators using an example:\n",
    "# (i) /\n",
    "# (ii) %\n",
    "# (iii) //\n",
    "# (iv) **\n",
    "\n",
    "# '/' this operator is used for normal division like:\n",
    "\n",
    "a = 24\n",
    "\n",
    "b = 4\n",
    "\n",
    "print(a/b)\n",
    "\n",
    "# '%' this operator is called as modulo operator. It is used for computation of remainder of an integer division.\n",
    "\n",
    "c = 24\n",
    "\n",
    "d = 4\n",
    "\n",
    "print(c%d)\n",
    "\n",
    "# '//' this operator is used for rounded down the integer division result to the nearest integer.\n",
    "\n",
    "e = 35\n",
    "\n",
    "f = 6\n",
    "\n",
    "print(e//f)\n",
    "\n",
    "# '**' this operator is used for evaluate the square of any integer value.\n",
    "\n",
    "g = 5\n",
    "\n",
    "h = 2\n",
    "\n",
    "print(g**h)"
   ]
  },
  {
   "cell_type": "code",
   "execution_count": 41,
   "id": "652ede29",
   "metadata": {},
   "outputs": [
    {
     "name": "stdout",
     "output_type": "stream",
     "text": [
      "<class 'str'>\n",
      "<class 'str'>\n",
      "<class 'str'>\n",
      "<class 'int'>\n",
      "<class 'int'>\n",
      "<class 'int'>\n",
      "<class 'int'>\n",
      "<class 'int'>\n",
      "<class 'int'>\n",
      "<class 'float'>\n"
     ]
    }
   ],
   "source": [
    "# Q4. Create a list of length 10 of your choice containing multiple types of data. Using for loop print the element and its data type.\n",
    "\n",
    "your_list = ['laxmikanta','India','odisha',7,5,4,2,0,0,72.53]\n",
    "\n",
    "for my_list in your_list:\n",
    "    \n",
    "    print(type(my_list))"
   ]
  },
  {
   "cell_type": "code",
   "execution_count": 37,
   "id": "a7a1cfc7",
   "metadata": {},
   "outputs": [
    {
     "name": "stdout",
     "output_type": "stream",
     "text": [
      "The number A is divisible by number B 3 times\n"
     ]
    }
   ],
   "source": [
    "# Q5. Using a while loop, verify if the number A is purely divisible by number B and if so then how many times it can be divisible.\n",
    "\n",
    "a = 24\n",
    "b = 2\n",
    "count = 0\n",
    "\n",
    "while a % b == 0:\n",
    "    count += 1\n",
    "    a /= b\n",
    "\n",
    "print(\"The number A is divisible by number B\", count, \"times\")"
   ]
  },
  {
   "cell_type": "code",
   "execution_count": 48,
   "id": "c10e49e3",
   "metadata": {},
   "outputs": [
    {
     "name": "stdout",
     "output_type": "stream",
     "text": [
      "1 is not divisible by 3\n",
      "2 is not divisible by 3\n",
      "3 is divisible by 3\n",
      "4 is not divisible by 3\n",
      "5 is not divisible by 3\n",
      "6 is divisible by 3\n",
      "7 is not divisible by 3\n",
      "8 is not divisible by 3\n",
      "9 is divisible by 3\n",
      "10 is not divisible by 3\n",
      "11 is not divisible by 3\n",
      "12 is divisible by 3\n",
      "13 is not divisible by 3\n",
      "14 is not divisible by 3\n",
      "15 is divisible by 3\n",
      "16 is not divisible by 3\n",
      "17 is not divisible by 3\n",
      "18 is divisible by 3\n",
      "19 is not divisible by 3\n",
      "20 is not divisible by 3\n",
      "21 is divisible by 3\n",
      "22 is not divisible by 3\n",
      "23 is not divisible by 3\n",
      "24 is divisible by 3\n",
      "25 is not divisible by 3\n"
     ]
    }
   ],
   "source": [
    "# Q6. Create a list containing 25 int type data. Using for loop and if-else condition print if the element is divisible by 3 or not.\n",
    "\n",
    "list_25 = [x for x in range(1,26)]\n",
    "\n",
    "for x in list_25:\n",
    "    \n",
    "    if x%3 == 0:\n",
    "        print(x,'is divisible by 3')\n",
    "    else:\n",
    "        print(x,'is not divisible by 3')"
   ]
  },
  {
   "cell_type": "code",
   "execution_count": 49,
   "id": "6ae3fe17",
   "metadata": {},
   "outputs": [
    {
     "name": "stdout",
     "output_type": "stream",
     "text": [
      "[0, 2, 3]\n"
     ]
    },
    {
     "ename": "TypeError",
     "evalue": "'tuple' object does not support item assignment",
     "output_type": "error",
     "traceback": [
      "\u001b[1;31m---------------------------------------------------------------------------\u001b[0m",
      "\u001b[1;31mTypeError\u001b[0m                                 Traceback (most recent call last)",
      "\u001b[1;32m~\\AppData\\Local\\Temp\\ipykernel_8724\\2028262369.py\u001b[0m in \u001b[0;36m<module>\u001b[1;34m\u001b[0m\n\u001b[0;32m     13\u001b[0m \u001b[0mmy_tuple\u001b[0m \u001b[1;33m=\u001b[0m \u001b[1;33m(\u001b[0m\u001b[1;36m1\u001b[0m\u001b[1;33m,\u001b[0m\u001b[1;36m2\u001b[0m\u001b[1;33m,\u001b[0m\u001b[1;36m3\u001b[0m\u001b[1;33m)\u001b[0m\u001b[1;33m\u001b[0m\u001b[1;33m\u001b[0m\u001b[0m\n\u001b[0;32m     14\u001b[0m \u001b[1;33m\u001b[0m\u001b[0m\n\u001b[1;32m---> 15\u001b[1;33m \u001b[0mmy_tuple\u001b[0m\u001b[1;33m[\u001b[0m\u001b[1;36m0\u001b[0m\u001b[1;33m]\u001b[0m \u001b[1;33m=\u001b[0m \u001b[1;36m0\u001b[0m \u001b[1;31m# example of immutable data type.\u001b[0m\u001b[1;33m\u001b[0m\u001b[1;33m\u001b[0m\u001b[0m\n\u001b[0m",
      "\u001b[1;31mTypeError\u001b[0m: 'tuple' object does not support item assignment"
     ]
    }
   ],
   "source": [
    "# Q7. What do you understand about mutable and immutable data types? Give examples for both showing this property.\n",
    "\n",
    "# In Python, immutable data types are objects that cannot be modified after they have been created.\n",
    "\n",
    "# On the other hand, mutable objects are easy to change.\n",
    "\n",
    "my_list1 =[1,2,3]\n",
    "\n",
    "my_list1[0] = 0\n",
    "\n",
    "print(my_list1)   # example of mutable data type.\n",
    "\n",
    "my_tuple = (1,2,3)\n",
    "\n",
    "my_tuple[0] = 0 # example of immutable data type."
   ]
  }
 ],
 "metadata": {
  "kernelspec": {
   "display_name": "Python 3 (ipykernel)",
   "language": "python",
   "name": "python3"
  },
  "language_info": {
   "codemirror_mode": {
    "name": "ipython",
    "version": 3
   },
   "file_extension": ".py",
   "mimetype": "text/x-python",
   "name": "python",
   "nbconvert_exporter": "python",
   "pygments_lexer": "ipython3",
   "version": "3.9.13"
  }
 },
 "nbformat": 4,
 "nbformat_minor": 5
}

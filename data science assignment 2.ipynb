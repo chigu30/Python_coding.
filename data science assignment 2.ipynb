{
 "cells": [
  {
   "cell_type": "code",
   "execution_count": 3,
   "id": "303d4ece",
   "metadata": {},
   "outputs": [],
   "source": [
    "# Q1. How do you comment code in Python? What are the different types of comments?\n",
    "\n",
    "# we can comment code in python by using a hash symbol #.\n",
    "\n",
    "# There are two type of comments in python. 1 single line comment. 2 multi line comment.\n",
    "\n",
    "# Here are some example of single line comment.\n",
    "\n",
    "# example-\n",
    "\n",
    "# This is a single line comment.\n",
    "\n",
    "# This is a multi line\n",
    "# command.\n",
    "\n"
   ]
  },
  {
   "cell_type": "code",
   "execution_count": 2,
   "id": "839a3565",
   "metadata": {},
   "outputs": [],
   "source": [
    "# Q2. What are variables in Python? How do you declare and assign values to variables?\n",
    "\n",
    "# In Python, a variable is a name that refers to a value. You can think of it as a container that holds a value.\n",
    "\n",
    "# To declare a variable in Python, you simply assign a value to a name using the equals sign (=).\n",
    "\n",
    "# Here is an example\n",
    "\n",
    "x = 5 # Here x is a variable and 5 is the assign value."
   ]
  },
  {
   "cell_type": "code",
   "execution_count": 9,
   "id": "7b28a35a",
   "metadata": {},
   "outputs": [
    {
     "data": {
      "text/plain": [
       "'5'"
      ]
     },
     "execution_count": 9,
     "metadata": {},
     "output_type": "execute_result"
    }
   ],
   "source": [
    "# Q3. How do you convert one data type to another in Python?\n",
    "\n",
    "# We can convert one data type to another simply by using that data type name in the first of the variable.\n",
    "\n",
    "# Example-\n",
    "\n",
    "x = 5 \n",
    "\n",
    "type(x) # This is a int data type.\n",
    "\n",
    "str(x) # Here we convert a int data type to a string data type."
   ]
  },
  {
   "cell_type": "code",
   "execution_count": 10,
   "id": "b1dfb6c2",
   "metadata": {},
   "outputs": [],
   "source": [
    "# Q4. How do you write and execute a Python script from the command line?\n",
    "\n",
    "# Open a text editor and write your Python code.\n",
    "# Save the file with a .py extension (e.g. myscript.py).\n",
    "# Open a command prompt or terminal window.\n",
    "# Navigate to the directory where your Python script is saved.\n",
    "# Type python followed by the name of your script and press Enter.\n",
    "# For example, if your script is named myscript.py, you would type:\n",
    "\n",
    "# python myscript.py\n",
    "\n"
   ]
  },
  {
   "cell_type": "code",
   "execution_count": 14,
   "id": "166c057b",
   "metadata": {},
   "outputs": [
    {
     "name": "stdout",
     "output_type": "stream",
     "text": [
      "[2, 3]\n"
     ]
    }
   ],
   "source": [
    "# Q5. Given a list my_list = [1, 2, 3, 4, 5], write the code to slice the list and obtain the sub-list [2, 3].\n",
    "\n",
    "# To slice a list in Python, you can use the colon (:) operator. The syntax for slicing a list is as follows:\n",
    "\n",
    "# my_list[start:end]\n",
    "\n",
    "# To obtain the sub-list [2, 3] from the list my_list = [1, 2, 3, 4, 5], you can use the following code:\n",
    "\n",
    "# my_list = [1, 2, 3, 4, 5]\n",
    "\n",
    "# sub_list = my_list[1:3]\n",
    "\n",
    "# print(sub_list)\n",
    "\n",
    "my_list = [1,2,3,4,5]\n",
    "\n",
    "my_list[0:5]\n",
    "\n",
    "sub_list = my_list[1:3]\n",
    "\n",
    "print(sub_list)"
   ]
  },
  {
   "cell_type": "code",
   "execution_count": 15,
   "id": "dd0f855d",
   "metadata": {},
   "outputs": [],
   "source": [
    "# Q6. What is a complex number in mathematics, and how is it represented in Python?\n",
    "\n",
    "# In mathematics the complex number is a combination of real number and imaginary number like 6+7i\n",
    "\n",
    "# But in python it is represented by 6+7j insted of i in python we use j."
   ]
  },
  {
   "cell_type": "code",
   "execution_count": 16,
   "id": "56d73305",
   "metadata": {},
   "outputs": [],
   "source": [
    "# Q7. What is the correct way to declare a variable named age and assign the value 25 to it?\n",
    "\n",
    "# The corrrect way to declare the variable is like\n",
    "\n",
    "age = 25"
   ]
  },
  {
   "cell_type": "code",
   "execution_count": 17,
   "id": "b2ce9634",
   "metadata": {},
   "outputs": [
    {
     "data": {
      "text/plain": [
       "float"
      ]
     },
     "execution_count": 17,
     "metadata": {},
     "output_type": "execute_result"
    }
   ],
   "source": [
    "# Q8. Declare a variable named price and assign the value 9.99 to it. What data type does this variable belong to?\n",
    "\n",
    "price = 9.99\n",
    "\n",
    "type(price) # the type of variable is float"
   ]
  },
  {
   "cell_type": "code",
   "execution_count": 18,
   "id": "dd858581",
   "metadata": {},
   "outputs": [
    {
     "name": "stdout",
     "output_type": "stream",
     "text": [
      "laxmikanta sahoo\n"
     ]
    }
   ],
   "source": [
    "# Q9. Create a variable named name and assign your full name to it as a string. How would you print the value of this variable?\n",
    "\n",
    "name ='laxmikanta sahoo'\n",
    "\n",
    "print(name)"
   ]
  },
  {
   "cell_type": "code",
   "execution_count": 22,
   "id": "afdaf4ee",
   "metadata": {},
   "outputs": [
    {
     "name": "stdout",
     "output_type": "stream",
     "text": [
      "World\n"
     ]
    }
   ],
   "source": [
    "# Q10. Given the string \"Hello, World!\", extract the substring \"World\".\n",
    "\n",
    "string = \"Hello World\"\n",
    "\n",
    "substring = string[6:11]\n",
    "\n",
    "print(substring)"
   ]
  },
  {
   "cell_type": "code",
   "execution_count": 23,
   "id": "8e67be2b",
   "metadata": {},
   "outputs": [],
   "source": [
    "# Q11. Create a variable named \"is_student\" and assign it a boolean value indicating whether you are\n",
    "# currently a student or not.\n",
    "\n",
    "is_student = True"
   ]
  }
 ],
 "metadata": {
  "kernelspec": {
   "display_name": "Python 3 (ipykernel)",
   "language": "python",
   "name": "python3"
  },
  "language_info": {
   "codemirror_mode": {
    "name": "ipython",
    "version": 3
   },
   "file_extension": ".py",
   "mimetype": "text/x-python",
   "name": "python",
   "nbconvert_exporter": "python",
   "pygments_lexer": "ipython3",
   "version": "3.9.13"
  }
 },
 "nbformat": 4,
 "nbformat_minor": 5
}

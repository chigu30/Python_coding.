{
 "cells": [
  {
   "cell_type": "code",
   "execution_count": 18,
   "id": "63e52aae",
   "metadata": {},
   "outputs": [],
   "source": [
    "# Q1, Create a vehicle class with an init method having instance variables as name_of_vehicle, max_speed and average_of_vehicle.\n",
    "\n",
    "class vehicle:\n",
    "    def __init__(self,name_of_vehicle,max_speed,average_of_vehicle):\n",
    "        self.name_of_vehicle = name_of_vehicle\n",
    "        self.max_speed = max_speed\n",
    "        self.average_of_vehicle = average_of_vehicle"
   ]
  },
  {
   "cell_type": "code",
   "execution_count": 21,
   "id": "db8a19ba",
   "metadata": {},
   "outputs": [
    {
     "data": {
      "text/plain": [
       "'Tata Harrier has a seating capacity of 5 passengers'"
      ]
     },
     "execution_count": 21,
     "metadata": {},
     "output_type": "execute_result"
    }
   ],
   "source": [
    "# Q2. Create a child class car from the vehicle class created in Que 1, which will inherit the vehicle class.\n",
    "# Create a method named seating_capacity which takes capacity as an argument and returns the name of\n",
    "# the vehicle and its seating capacity.\n",
    "\n",
    "class car(vehicle):\n",
    "    def seating_capacity(self,capacity):\n",
    "        return f\"{self.name_of_vehicle} has a seating capacity of {capacity} passengers\"\n",
    "\n",
    "car = car('Tata Harrier',250,16)\n",
    "     \n",
    "car.seating_capacity(5)\n",
    "        "
   ]
  },
  {
   "cell_type": "code",
   "execution_count": 24,
   "id": "00cae026",
   "metadata": {},
   "outputs": [
    {
     "data": {
      "text/plain": [
       "'this is the first class'"
      ]
     },
     "execution_count": 24,
     "metadata": {},
     "output_type": "execute_result"
    }
   ],
   "source": [
    "# Q3. What is multiple inheritance? Write a python code to demonstrate multiple inheritance.\n",
    "\n",
    "# Multiple inheritance is a feature in python that allows a class to inherit from more than one base class.\n",
    "\n",
    "class a:\n",
    "    def class1(self):\n",
    "        return 'this is the first class'\n",
    "class b:\n",
    "    def class2(self):\n",
    "        return 'this is my second class'\n",
    "\n",
    "class c(a,b):\n",
    "    pass\n",
    "\n",
    "class_c = c()\n",
    "\n",
    "class_c.class1()"
   ]
  },
  {
   "cell_type": "code",
   "execution_count": 26,
   "id": "91f73008",
   "metadata": {},
   "outputs": [],
   "source": [
    "# Q4. What are getter and setter in python? Create a class and create a getter and a setter method in this class.\n",
    "\n",
    "# We use getters & setters to add validation logic around getting and setting a value.\n",
    "\n",
    "# To avoid direct access of a class field i.e. private variables cannot be accessed directly or modified by external user.\n",
    "\n",
    "class getter_setter:\n",
    "    def __init__(self,name,age):\n",
    "        self.__name = name \n",
    "        self.__age = age\n",
    "    def set_name(self,name):\n",
    "        self.__name = name\n",
    "    def set_age(self,age):\n",
    "        self.__age = age\n",
    "    def get_age(self):\n",
    "        return self.__age\n",
    "    def get_name(self):\n",
    "        return self.__name"
   ]
  },
  {
   "cell_type": "code",
   "execution_count": 27,
   "id": "4b950da5",
   "metadata": {},
   "outputs": [],
   "source": [
    "name = getter_setter('laxmikanta',23)"
   ]
  },
  {
   "cell_type": "code",
   "execution_count": 28,
   "id": "68d22905",
   "metadata": {},
   "outputs": [
    {
     "data": {
      "text/plain": [
       "23"
      ]
     },
     "execution_count": 28,
     "metadata": {},
     "output_type": "execute_result"
    }
   ],
   "source": [
    "name.get_age()"
   ]
  },
  {
   "cell_type": "code",
   "execution_count": 30,
   "id": "410e6f77",
   "metadata": {},
   "outputs": [],
   "source": [
    "name.set_name('subh')"
   ]
  },
  {
   "cell_type": "code",
   "execution_count": 31,
   "id": "a27ba13c",
   "metadata": {},
   "outputs": [
    {
     "data": {
      "text/plain": [
       "'subh'"
      ]
     },
     "execution_count": 31,
     "metadata": {},
     "output_type": "execute_result"
    }
   ],
   "source": [
    "name.get_name()"
   ]
  },
  {
   "cell_type": "code",
   "execution_count": 33,
   "id": "dcc05f0b",
   "metadata": {},
   "outputs": [
    {
     "name": "stdout",
     "output_type": "stream",
     "text": [
      "THis is child class\n"
     ]
    }
   ],
   "source": [
    "# Q5.What is method overriding in python? Write a python code to demonstrate method overriding.\n",
    "\n",
    "# Method overriding is an ability of any object oriented programming lqnguage that allows a child class to provide a specific \n",
    "\n",
    "# implimentation of a method that is already provided by one of its parent classes.\n",
    "\n",
    "class parent:\n",
    "    def func(self):\n",
    "        print(\"This is parent class\")\n",
    "class child(parent):\n",
    "    def func(self):\n",
    "        print(\"THis is child class\")\n",
    "        \n",
    "obj = child()\n",
    "obj.func()"
   ]
  }
 ],
 "metadata": {
  "kernelspec": {
   "display_name": "Python 3 (ipykernel)",
   "language": "python",
   "name": "python3"
  },
  "language_info": {
   "codemirror_mode": {
    "name": "ipython",
    "version": 3
   },
   "file_extension": ".py",
   "mimetype": "text/x-python",
   "name": "python",
   "nbconvert_exporter": "python",
   "pygments_lexer": "ipython3",
   "version": "3.9.13"
  }
 },
 "nbformat": 4,
 "nbformat_minor": 5
}

{
 "cells": [
  {
   "cell_type": "markdown",
   "id": "bf930cbc",
   "metadata": {},
   "source": [
    "# Q1. What is an API? Give an example, where an API is used in real life.\n",
    "\n",
    "An API (Application Programming Interface) is a collection of communication protocols and subroutines used by various programs to communicate between them.\n",
    "\n",
    "API's are used in various real life senarios like we use google map on our phones. Google map uses APIs to get data from other services to show us information about nearby resturant and petrol-pumps etc."
   ]
  },
  {
   "cell_type": "markdown",
   "id": "8d9cdbab",
   "metadata": {},
   "source": [
    "# Q2. Give advantages and disadvantages of using API.\n",
    "\n",
    "APIs have many advantages and dis-advantages.\n",
    "some of advantages are:\n",
    "    APIs bring a new level of modularrity to applications and allow developers to leverage the expertise of other applications.\n",
    "    they provide flexibility to use completely indipendent protocols allowing your microservices to communicate among themselves with ease.\n",
    "    It increases interoperability between systems, allowing for the exchange of data and functionality.\n",
    "\n",
    "    \n",
    "Some of the dis-advantages are:\n",
    "    As a single point of entry, an api is a gateway and can become a hacker's primary target.\n",
    "    There is also more code up front when writing the app layer."
   ]
  },
  {
   "cell_type": "markdown",
   "id": "56f6e29d",
   "metadata": {},
   "source": [
    "# Q3. What is a Web API? Differentiate between API and Web API.\n",
    "\n",
    "A Web API is a type of API that uses web protocols and formats, such as HTTP and JSON, to communicate over a network.\n",
    "\n",
    "API stands for application programming interface, which is a way for one application to interact with another application. \n",
    "\n",
    "All web services are APIs, but not all APIs are web services.\n",
    "\n"
   ]
  },
  {
   "cell_type": "markdown",
   "id": "23a42241",
   "metadata": {},
   "source": [
    "# Q4. Explain REST and SOAP Architecture. Mention shortcomings of SOAP.\n",
    "\n",
    "REST (Representational State Transfer) is an architectural style that defines a set of constraints to be used for creating web services. RESTful web services are stateless and can be cached. They use HTTP methods such as GET, POST, PUT, DELETE to perform operations on resources.\n",
    "\n",
    "SOAP (Simple Object Access Protocol) is a messaging protocol that allows programs that run on disparate operating systems (such as Windows and Linux) to communicate using Hypertext Transfer Protocol (HTTP) and its Extensible Markup Language (XML). SOAP uses XML for its message format and relies on application layer protocols such as HTTP or SMTP for message negotiation and transmission.\n",
    "\n",
    "SOAP has some shortcomings. It is more complex than REST because it requires more bandwidth and processing power. It also has a steep learning curve because it requires knowledge of XML."
   ]
  },
  {
   "cell_type": "markdown",
   "id": "234fa48b",
   "metadata": {},
   "source": [
    "# Q5. Differentiate between REST and SOAP.\n",
    "\n",
    "REST is a set of guidelines that offers flexible implementation, whereas SOAP is a protocol with specific requirements like XML messaging.\n",
    "\n",
    "REST APIs are lightweight, making them ideal for newer contexts like the Internet of Things (IoT), mobile application development, and serverless computing. \n",
    "\n",
    "The main difference is that SOAP is a protocol while REST is not."
   ]
  }
 ],
 "metadata": {
  "kernelspec": {
   "display_name": "Python 3 (ipykernel)",
   "language": "python",
   "name": "python3"
  },
  "language_info": {
   "codemirror_mode": {
    "name": "ipython",
    "version": 3
   },
   "file_extension": ".py",
   "mimetype": "text/x-python",
   "name": "python",
   "nbconvert_exporter": "python",
   "pygments_lexer": "ipython3",
   "version": "3.9.13"
  }
 },
 "nbformat": 4,
 "nbformat_minor": 5
}

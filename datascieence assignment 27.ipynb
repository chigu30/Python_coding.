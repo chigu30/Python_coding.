{
 "cells": [
  {
   "cell_type": "markdown",
   "id": "baeff41b",
   "metadata": {},
   "source": [
    "# Q1. What is Statistics?\n",
    "\n",
    "Statistics is the science of collecting,organizing and analysing data."
   ]
  },
  {
   "cell_type": "markdown",
   "id": "48c75f8b",
   "metadata": {},
   "source": [
    "# Q2. Define the different types of statistics and give an example of when each type might be used.\n",
    "\n",
    "There are two types of statistics.\n",
    "\n",
    "1. Descriptive statistics.It is used when we need to do organizing and summerizing the data.Like when we need to calculate the mean, median or mode of a data.\n",
    "\n",
    "2. Inferential statistics.It is used when we try to measure conclusion for a population data from a sample data.It is like when we try to create an asumption for a school from a classroom. "
   ]
  },
  {
   "cell_type": "markdown",
   "id": "cbc4a2b1",
   "metadata": {},
   "source": [
    "# Q3. What are the different types of data and how do they differ from each other? Provide an example of each type of data.\n",
    "\n",
    "Data is diveded into two types.\n",
    "\n",
    "i). Quantitative data. \n",
    "\n",
    "It is further divided into two types.\n",
    "\n",
    "1. Discret data.\n",
    "\n",
    "2. Continous data.\n",
    "\n",
    "ii). Qualitative data.\n",
    "\n",
    "It is further divided into two types.\n",
    "\n",
    "1. Nominal data.\n",
    "\n",
    "2. Ordinal data.\n"
   ]
  },
  {
   "cell_type": "markdown",
   "id": "dbd1beb6",
   "metadata": {},
   "source": [
    "# Q4. Categorise the following datasets with respect to quantitative and qualitative data types:\n",
    "\n",
    "(i) Grading in exam: A+, A, B+, B, C+, C, D, E = Ordinal.Qualitative\n",
    "\n",
    "(ii) Colour of mangoes: yellow, green, orange, red = Nominal.Qualitative\n",
    "\n",
    "(iii) Height data of a class: [178.9, 179, 179.5, 176, 177.2, 178.3, 175.8,...] = Continous.Quantitative\n",
    "\n",
    "(iv) Number of mangoes exported by a farm: [500, 600, 478, 672, ...] = Discrete.Quantitative\n",
    "\n"
   ]
  },
  {
   "cell_type": "markdown",
   "id": "c2e70133",
   "metadata": {},
   "source": [
    "# Q5. Explain the concept of levels of measurement and give an example of a variable for each level.\n",
    "\n",
    "1. Nominal: Nominal variables are categorical in nature, and the categories have no inherent order or ranking. Examples of nominal variables include gender (male or female), eye color (blue, brown, green), and political affiliation (Democrat, Republican, Independent).\n",
    "\n",
    "2. Ordinal: Ordinal variables have categories that can be ordered or ranked, but the differences between the categories are not necessarily equal. Examples of ordinal variables include rankings (first place, second place, third place), income level (low, medium, high), and educational attainment (less than high school, high school graduate, some college, bachelor's degree or higher).\n",
    "\n",
    "3. Interval: Interval variables have categories that can be ordered, and the differences between the categories are equal. However, interval variables do not have a true zero point. Examples of interval variables include temperature in Celsius or Fahrenheit, time of day, and calendar dates.\n",
    "\n",
    "4. Ratio: Ratio variables have categories that can be ordered, and the differences between the categories are equal. Additionally, ratio variables have a true zero point, meaning that there is a complete absence of the variable being measured. Examples of ratio variables include height, weight, age, and income."
   ]
  },
  {
   "cell_type": "markdown",
   "id": "41fb05a5",
   "metadata": {},
   "source": [
    "# Q6. Why is it important to understand the level of measurement when analyzing data? Provide an example to illustrate your answer.\n",
    "\n",
    "i). Understanding the level of measurement of a variable is important when analyzing data because it helps determine which statistical techniques and methods are appropriate to use for that variable. Different levels of measurement require different statistical methods for analysis, and using the wrong method can lead to incorrect conclusions."
   ]
  },
  {
   "cell_type": "markdown",
   "id": "abf7d153",
   "metadata": {},
   "source": [
    "# Q7. How nominal data type is different from ordinal data type.\n",
    "\n",
    "Both nominal and ordinal data are catagorical datatypes.\n",
    "\n",
    "But the difference is :\n",
    "    \n",
    "    Nominal : There is no specified rank in the data. eg- Gender,Bload Group etc.\n",
    "        \n",
    "    Ordinal : There is a specified rank in the data. eg- customr rating(Better,Good,Bad) etc."
   ]
  },
  {
   "cell_type": "markdown",
   "id": "535c90e4",
   "metadata": {},
   "source": [
    "# Q8. Which type of plot can be used to display data in terms of range?\n",
    "\n",
    " A box plot or box-and-whisker plot is a type of plot that can be used to display data in terms of range."
   ]
  },
  {
   "cell_type": "markdown",
   "id": "ac351d56",
   "metadata": {},
   "source": [
    "# Q9. Describe the difference between descriptive and inferential statistics. Give an example of each type of statistics and explain how they are used.\n",
    "\n",
    " Descriptive Stats consists of organising and summarizing the data whereas Inferential Stats consists of using data you have measured to come to a conclusion."
   ]
  },
  {
   "cell_type": "markdown",
   "id": "011032fd",
   "metadata": {},
   "source": [
    "# Q10. What are some common measures of central tendency and variability used in statistics? Explain how each measure can be used to describe a dataset.\n",
    "\n",
    "Common measures of Central Tendency are a) Mean b) Median c) Mode\n",
    "\n",
    "    Mean : Average of the dataset\n",
    "    Median : The centremost element of the dataset\n",
    "    Mode : The value that occurs most frequently in a given set of data."
   ]
  }
 ],
 "metadata": {
  "kernelspec": {
   "display_name": "Python 3 (ipykernel)",
   "language": "python",
   "name": "python3"
  },
  "language_info": {
   "codemirror_mode": {
    "name": "ipython",
    "version": 3
   },
   "file_extension": ".py",
   "mimetype": "text/x-python",
   "name": "python",
   "nbconvert_exporter": "python",
   "pygments_lexer": "ipython3",
   "version": "3.9.13"
  }
 },
 "nbformat": 4,
 "nbformat_minor": 5
}

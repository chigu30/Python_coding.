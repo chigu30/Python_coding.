{
 "cells": [
  {
   "cell_type": "code",
   "execution_count": 4,
   "id": "d3389130",
   "metadata": {},
   "outputs": [
    {
     "data": {
      "text/plain": [
       "'Tata'"
      ]
     },
     "execution_count": 4,
     "metadata": {},
     "output_type": "execute_result"
    }
   ],
   "source": [
    "# Q1. Explain Class and Object with respect to Object-Oriented Programming. Give a suitable example.\n",
    "\n",
    "# In Object-Oriented Programming (OOP), a class is a blueprint for creating objects, providing initial values for state , and implementations of behavior.\n",
    "\n",
    "# An object is an instance of a class.\n",
    "\n",
    "class car:\n",
    "    def __init__(self,car_name,milage):\n",
    "        self.car_name = car_name\n",
    "        self.milage = milage\n",
    "my_car = car ('Tata','16')\n",
    "\n",
    "my_car.car_name"
   ]
  },
  {
   "cell_type": "code",
   "execution_count": 5,
   "id": "c44b4d39",
   "metadata": {},
   "outputs": [],
   "source": [
    "# Q2. Name the four pillars of OOPs.\n",
    "\n",
    "# The four pilars of OOP's are \n",
    "\n",
    "# 1 : Abstraction\n",
    "# 2 : Encapsulation\n",
    "# 3 : Inheritance\n",
    "# 4 : Polymorphism"
   ]
  },
  {
   "cell_type": "code",
   "execution_count": 7,
   "id": "fe9bef18",
   "metadata": {},
   "outputs": [
    {
     "name": "stdout",
     "output_type": "stream",
     "text": [
      "laxmikanta\n",
      "23\n"
     ]
    }
   ],
   "source": [
    "# Q3. Explain why the __init__() function is used. Give a suitable example.\n",
    "\n",
    "# The __init__() function is used to initialize the object’s properties. It is called automatically when an object is created.\n",
    "\n",
    "class person:\n",
    "    def __init__ (self,name,age):\n",
    "        self.name = name\n",
    "        self.age = age\n",
    "p1 = person('laxmikanta',23)\n",
    "\n",
    "print(p1.name)\n",
    "print(p1.age)"
   ]
  },
  {
   "cell_type": "code",
   "execution_count": 8,
   "id": "9ffbe89e",
   "metadata": {},
   "outputs": [],
   "source": [
    "# Q4. Why self is used in OOPs?\n",
    "\n",
    "# In OOPs , the self parameter is used to refer to the instance of the class."
   ]
  },
  {
   "cell_type": "code",
   "execution_count": 12,
   "id": "ae5c1d94",
   "metadata": {},
   "outputs": [
    {
     "name": "stdout",
     "output_type": "stream",
     "text": [
      "laxmikanta sahoo\n"
     ]
    }
   ],
   "source": [
    "# Q5. What is inheritance? Give an example for each type of inheritance.\n",
    "\n",
    "# Inheritance is a way of creating a new class from an existing class. The new class is called as child class and the existing class is called as parent class.\n",
    "\n",
    "# single inheritance \n",
    "\n",
    "class person:\n",
    "    def __init__(self,fname,lname):\n",
    "        self.fname = fname\n",
    "        self.lname = lname\n",
    "    def print_name(self):\n",
    "        print(self.fname,self.lname)\n",
    "        \n",
    "class student(person):\n",
    "    pass\n",
    "x = student('laxmikanta','sahoo')\n",
    "x.print_name()"
   ]
  },
  {
   "cell_type": "code",
   "execution_count": 15,
   "id": "d140d31b",
   "metadata": {},
   "outputs": [
    {
     "name": "stdout",
     "output_type": "stream",
     "text": [
      "this is my mama class\n",
      "this is my papa class\n"
     ]
    }
   ],
   "source": [
    "# multiple inheritance\n",
    "\n",
    "class papa:\n",
    "    def papa(self):\n",
    "        print('this is my papa class')\n",
    "class mama:\n",
    "    def mama(self):\n",
    "        print('this is my mama class')\n",
    "class child(papa,mama):\n",
    "    pass\n",
    "obj = child()\n",
    "\n",
    "obj.mama()\n",
    "\n",
    "obj.papa()"
   ]
  },
  {
   "cell_type": "code",
   "execution_count": 16,
   "id": "158a79e7",
   "metadata": {},
   "outputs": [
    {
     "name": "stdout",
     "output_type": "stream",
     "text": [
      "laxmikanta sahoo\n"
     ]
    }
   ],
   "source": [
    "# multilevel inheritance\n",
    "\n",
    "class person:\n",
    "    def __init__(self,fname,lname):\n",
    "        self.fname = fname\n",
    "        self.lname = lname\n",
    "    def print_name(self):\n",
    "        print(self.fname,self.lname)\n",
    "class student(person):\n",
    "    pass\n",
    "class grandstudent(student):\n",
    "    pass\n",
    "y = grandstudent('laxmikanta','sahoo')\n",
    "\n",
    "y.print_name()"
   ]
  },
  {
   "cell_type": "code",
   "execution_count": 17,
   "id": "76685847",
   "metadata": {},
   "outputs": [
    {
     "name": "stdout",
     "output_type": "stream",
     "text": [
      "laxmikanta sahoo\n",
      "tapan sahoo\n"
     ]
    }
   ],
   "source": [
    "# hierarchical inheritance\n",
    "\n",
    "class person:\n",
    "    def __init__(self,fname,lname):\n",
    "        self.fname = fname\n",
    "        self.lname = lname\n",
    "    def printname(self):\n",
    "        print(self.fname,self.lname)\n",
    "class student(person):\n",
    "    pass\n",
    "class teacher(person):\n",
    "    pass\n",
    "class ta1(student):\n",
    "    pass\n",
    "class ta2(student):\n",
    "    pass\n",
    "z = ta1('laxmikanta','sahoo')\n",
    "a = ta2('tapan','sahoo')\n",
    "\n",
    "z.printname()\n",
    "a.printname()"
   ]
  }
 ],
 "metadata": {
  "kernelspec": {
   "display_name": "Python 3 (ipykernel)",
   "language": "python",
   "name": "python3"
  },
  "language_info": {
   "codemirror_mode": {
    "name": "ipython",
    "version": 3
   },
   "file_extension": ".py",
   "mimetype": "text/x-python",
   "name": "python",
   "nbconvert_exporter": "python",
   "pygments_lexer": "ipython3",
   "version": "3.9.13"
  }
 },
 "nbformat": 4,
 "nbformat_minor": 5
}

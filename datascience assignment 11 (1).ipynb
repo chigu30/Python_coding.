{
 "cells": [
  {
   "cell_type": "markdown",
   "id": "2b438b49",
   "metadata": {},
   "source": [
    "# Q1. What is multiprocessing in python? Why is it useful?\n",
    "\n",
    "In Python, multiprocessing is a module that allows you to run multiple processes concurrently. \n",
    "\n",
    "It provides an interface for launching parallel tasks, where each task runs in a separate process. \n",
    "\n",
    "This is different from multithreading, where multiple threads run within the same process.\n",
    "\n",
    "Multiprocessing is useful in several scenarios:\n",
    "\n",
    "1. Improved performance\n",
    "\n",
    "2. Increased responsiveness\n",
    "\n",
    "3. Simplified concurrent programming\n",
    "\n",
    "4. Resource isolation"
   ]
  },
  {
   "cell_type": "markdown",
   "id": "7206a753",
   "metadata": {},
   "source": [
    "# Q2. What are the differences between multiprocessing and multithreading?\n",
    "\n",
    "Some of the differences are:\n",
    "\n",
    "1. Definition:\n",
    "   - Multiprocessing: Multiprocessing involves the execution of multiple processes concurrently, where each process has its own memory space.\n",
    "   - Multithreading: Multithreading involves the execution of multiple threads within a single process, and they share the same memory space.\n",
    "\n",
    "2. Resource Allocation:\n",
    "   - Multiprocessing: In multiprocessing, each process is allocated its own system resources, such as memory space, file handles, and CPU resources. Processes do not directly share memory with each other unless explicit inter-process communication mechanisms are used.\n",
    "   - Multithreading: In multithreading, threads within a process share the same memory space and system resources. Threads can access and modify shared data structures within the process without the need for explicit communication.\n",
    "\n",
    "3. Communication and Synchronization:\n",
    "   - Multiprocessing: Processes communicate with each other through inter-process communication (IPC) mechanisms like pipes, queues, or shared memory. Synchronization between processes is necessary to avoid conflicts and ensure orderly execution.\n",
    "   - Multithreading: Threads within a process can directly communicate with each other through shared data structures. Synchronization mechanisms like locks, semaphores, and condition variables are used to coordinate access to shared resources and avoid race conditions.\n",
    "\n",
    "4. Scalability:\n",
    "   - Multiprocessing: Multiprocessing can take advantage of multiple CPUs or CPU cores, allowing for true parallel execution. Each process can run on a separate CPU, enabling efficient utilization of resources.\n",
    "   - Multithreading: Multithreading is more suited for tasks that are I/O bound or have significant wait times. While multiple threads can be created, they are typically scheduled on a single CPU, resulting in time-slicing or interleaved execution."
   ]
  },
  {
   "cell_type": "code",
   "execution_count": 1,
   "id": "724fecf4",
   "metadata": {},
   "outputs": [
    {
     "name": "stdout",
     "output_type": "stream",
     "text": [
      "Main process: Process completed\n"
     ]
    }
   ],
   "source": [
    "# Q3. Write a python code to create a process using the multiprocessing module.\n",
    "\n",
    "import multiprocessing\n",
    "\n",
    "def worker(num):\n",
    "    \"\"\"Function to be executed by each process\"\"\"\n",
    "    result = num * 2\n",
    "    print(f\"Worker process: {num} * 2 = {result}\")\n",
    "\n",
    "if __name__ == \"__main__\":\n",
    "    # Create a new process\n",
    "    process = multiprocessing.Process(target=worker, args=(5,))\n",
    "    \n",
    "    # Start the process\n",
    "    process.start()\n",
    "    \n",
    "    # Wait for the process to finish\n",
    "    process.join()\n",
    "    \n",
    "    print(\"Main process: Process completed\")\n"
   ]
  },
  {
   "cell_type": "raw",
   "id": "a48c972f",
   "metadata": {},
   "source": [
    "# Q4. What is a multiprocessing pool in python? Why is it used?\n",
    "\n",
    "# In Python, a multiprocessing pool refers to a feature provided by the multiprocessing module that allows you to create a pool of worker processes to execute tasks in parallel. It provides an easy and convenient way to distribute the workload across multiple processors or CPU cores, taking advantage of the available hardware resources."
   ]
  },
  {
   "cell_type": "code",
   "execution_count": null,
   "id": "cce7324d",
   "metadata": {},
   "outputs": [],
   "source": [
    "Q5. How can we create a pool of worker processes in python using the multiprocessing module?\n",
    "\n",
    "import multiprocessing\n",
    "def worker_function(arg1,arg2):\n",
    "    poolfunc = multiprocessing.pool(processes=4)\n",
    "    results = pool.map(worker_function, input_data)\n",
    "poolfunc.close()\n",
    "poolfunc.join()"
   ]
  },
  {
   "cell_type": "code",
   "execution_count": 13,
   "id": "0ebb6458",
   "metadata": {},
   "outputs": [],
   "source": [
    "# Q6. Write a python program to create 4 processes, each process should print a different number using the\n",
    "\n",
    "# multiprocessing module in python.\n",
    "\n",
    "import multiprocessing\n",
    "\n",
    "def print_number(number):\n",
    "    print(number)\n",
    "\n",
    "if __name__ == '__main__':\n",
    "    processes = []\n",
    "    numbers = [1, 2, 3, 4]\n",
    "\n",
    "    for number in numbers:\n",
    "        process = multiprocessing.Process(target=print_number, args=(number,))\n",
    "        processes.append(process)\n",
    "        process.start()\n",
    "\n",
    "    for process in processes:\n",
    "        process.join()\n"
   ]
  }
 ],
 "metadata": {
  "kernelspec": {
   "display_name": "Python 3 (ipykernel)",
   "language": "python",
   "name": "python3"
  },
  "language_info": {
   "codemirror_mode": {
    "name": "ipython",
    "version": 3
   },
   "file_extension": ".py",
   "mimetype": "text/x-python",
   "name": "python",
   "nbconvert_exporter": "python",
   "pygments_lexer": "ipython3",
   "version": "3.9.13"
  }
 },
 "nbformat": 4,
 "nbformat_minor": 5
}

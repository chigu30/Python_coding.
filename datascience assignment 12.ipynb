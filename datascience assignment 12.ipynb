{
 "cells": [
  {
   "cell_type": "markdown",
   "id": "e96768e2",
   "metadata": {},
   "source": [
    "# Q1. What is a database? Differentiate between SQL and NoSQL databases.\n",
    "\n",
    "A database is an organized collection of data that can be accessed, managed, and updated.\n",
    "\n",
    "There are mainly two types of data \n",
    "\n",
    "SQL and NoSQL.\n",
    "\n",
    "SQL databases are table based and use a relational model to store data.\n",
    "\n",
    "While NoSQL databases are non relational and store data in variety of formats such as key value pair, documents ,graphs, etc."
   ]
  },
  {
   "cell_type": "markdown",
   "id": "b1f1f88a",
   "metadata": {},
   "source": [
    "# Q2. What is DDL? Explain why CREATE, DROP, ALTER, and TRUNCATE are used with an example.\n",
    "\n",
    "DDL is stands for Data Defination Language.\n",
    "\n",
    "It is a subset of SQL and is a part of DBMS.\n",
    "\n",
    "DDL consists of commands like CREATE, ALTER, TRUNCATE, DROP.\n",
    "\n",
    "EXAMPLE:-\n",
    "    \n",
    "CREATE TABLE students(\n",
    "    id INT ,\n",
    "    name VARCHAR(255),\n",
    "    age INT\n",
    ");\n",
    "\n",
    "We use create command to create any table in sql.\n",
    "\n",
    "DROP TABLE students;\n",
    "\n",
    "We use drop command to delete the existing table.\n",
    "\n",
    "ALTER TABLE studeents ADD email VARCHAR(255);\n",
    "\n",
    "We use alter command to make changes in the existing table.\n",
    "\n",
    "TRUNCATE TABLE students;\n",
    "\n",
    "We use truncate command to remove all the data from an existing table.\n"
   ]
  },
  {
   "cell_type": "markdown",
   "id": "548fbd12",
   "metadata": {},
   "source": [
    "# Q3. What is DML? Explain INSERT, UPDATE, and DELETE with an example.\n",
    "\n",
    "DML stands for Data Manipulation Language.\n",
    "\n",
    "It is also a subset of SQL and part of dbms.\n",
    "\n",
    "DML commands are used to manipulate the data in the existing table.\n",
    "\n",
    "INSERT, UPDATE, AND DELETE are some of the DML commands we commonly use.\n",
    "\n",
    "EXAMPLE:-\n",
    "    \n",
    "INSERT INTO students(id,name,age) values (155,'kyle',21);\n",
    "\n",
    "We use insert command to insert the values into the table.\n",
    "\n",
    "UPDATE sttudents SET age = 20\n",
    "WHERE id = 1;\n",
    "\n",
    "We use update command to update the values in the existing table.\n",
    "\n",
    "DELETE FROM students WHERE id = 1;\n",
    "\n",
    "Delete command is used to detete records from a existing table."
   ]
  },
  {
   "cell_type": "markdown",
   "id": "aee9e126",
   "metadata": {},
   "source": [
    "# Q4. What is DQL? Explain SELECT with an example.\n",
    "\n",
    "DQL stands for Data Query Language.\n",
    "\n",
    "It is also a subset of sql and part of dbms.\n",
    "\n",
    "The commonly used dql command is SELECT \n",
    "\n",
    "EXAMPLE:-\n",
    "    \n",
    "SELECT * FROM students;\n",
    "\n",
    "SELECT command is used for retrive all records from a existing table."
   ]
  },
  {
   "cell_type": "markdown",
   "id": "32786180",
   "metadata": {},
   "source": [
    "# Q5. Explain Primary Key and Foreign Key.\n",
    "\n",
    "Primary key in sql is a column that uniquely identifies each row in a table.\n",
    "\n",
    "Foreign key in sql is a column that refers to the primery key of anathor table."
   ]
  },
  {
   "cell_type": "markdown",
   "id": "38be0a0b",
   "metadata": {},
   "source": [
    "# Q6. Write a python code to connect MySQL to python. Explain the cursor() and execute() method.\n",
    "\n",
    "import mysql.connector\n",
    "\n",
    "mydb = mysql.connector.connect(\n",
    "    host=\"localhost\",\n",
    "    user=\"your user name\",\n",
    "    password=\"your password\",\n",
    "    database=\"mydatabase\"\n",
    ")\n",
    "\n",
    "mycurser = mydb.curser()\n",
    "\n",
    "mycurser.execute(\"SELECT * FROM student\")\n",
    "\n",
    "myresult = mycurser.fetchall()\n",
    "\n",
    "for x in myresult:\n",
    "    print (x)"
   ]
  },
  {
   "cell_type": "markdown",
   "id": "6e055fbe",
   "metadata": {},
   "source": [
    "# Q7. Give the order of execution of SQL clauses in an SQL query.\n",
    "\n",
    "The order of execution of SQL clauses in an SQL query is as follows:\n",
    "\n",
    "SELECT\n",
    "FROM\n",
    "JOIN\n",
    "WHERE\n",
    "GROUP BY\n",
    "HAVING\n",
    "ORDER BY"
   ]
  }
 ],
 "metadata": {
  "kernelspec": {
   "display_name": "Python 3 (ipykernel)",
   "language": "python",
   "name": "python3"
  },
  "language_info": {
   "codemirror_mode": {
    "name": "ipython",
    "version": 3
   },
   "file_extension": ".py",
   "mimetype": "text/x-python",
   "name": "python",
   "nbconvert_exporter": "python",
   "pygments_lexer": "ipython3",
   "version": "3.9.13"
  }
 },
 "nbformat": 4,
 "nbformat_minor": 5
}

{
 "cells": [
  {
   "cell_type": "markdown",
   "id": "4a0edec9",
   "metadata": {},
   "source": [
    "# Q1. What is MongoDB? Explain non-relational databases in short. In which scenarios it is preferred to use MongoDB over SQL databases?\n",
    "\n",
    "MongoDB is a No-SQL database which can store the data in various formats like json,document etc.\n",
    "\n",
    "non-relational databases are generally known as No-SQL database are different from relational database in that they stored their data in non-tabular formats.Non-relational database might be based on document type or json type database.\n",
    "\n",
    "MongoDB is prefered to use over SQL when the data is in unstructured way and when we need to store large amount of data as documents."
   ]
  },
  {
   "cell_type": "markdown",
   "id": "b4867443",
   "metadata": {},
   "source": [
    "# Q2. State and Explain the features of MongoDB.\n",
    "\n",
    "MonngoDB is a scalable, flexible NoSQL document database platform designed to overcome the relational datbase approah and the limitation of NoSQL solution.\n",
    "\n",
    "some of the features of MongoDB are:-\n",
    "    \n",
    "    Document Oriented: MongoDB stores the main subjects in the minimal number of documents and not by breaking it up into multiple relational structures like RDBMS.\n",
    "    Support and hoc queries:In MongoDB we can search by field,range query and it also supports regular expression.\n",
    "    Indexing:We can index any field in a document.\n",
    "    Replication:MongoDB supports master slave replication.\n",
    "    Sharding:When applied to perticularly large datasets, sharding helps the database distribute and better execute."
   ]
  },
  {
   "cell_type": "markdown",
   "id": "1510ae5a",
   "metadata": {},
   "source": [
    "# Q3. Write a code to connect MongoDB to Python. Also, create a database and a collection in MongoDB.\n",
    "\n",
    "from pymongo import MongoClient\n",
    "\n",
    "client = MongoClient('localhost',27017)\n",
    "\n",
    "db = client['mydatabase']\n",
    "\n",
    "collection =db['mycollection']"
   ]
  },
  {
   "cell_type": "markdown",
   "id": "98df5730",
   "metadata": {},
   "source": [
    "# Q4. Using the database and the collection created in question number 3, write a code to insert one record, and insert many records. Use the find() and find_one() methods to print the inserted record.\n",
    "\n",
    "from pymongo import MongoClient\n",
    "\n",
    "client = MongoClient('localhost', 27017)\n",
    "\n",
    "db = client['mydatabase']\n",
    "\n",
    "collection = db['mycollection']\n",
    "\n",
    "record = {'name': 'John', 'age': 25}\n",
    "result = collection.insert_one(record)\n",
    "print('One record inserted with ID:', result.inserted_id)\n",
    "\n",
    "records = [\n",
    "    {'name': 'Jane', 'age': 22},\n",
    "    {'name': 'Bob', 'age': 30},\n",
    "    {'name': 'Alice', 'age': 27}\n",
    "]\n",
    "result = collection.insert_many(records)\n",
    "print('Multiple records inserted with IDs:', result.inserted_ids)\n",
    "\n",
    "record = collection.find_one({'name': 'John'})\n",
    "print('Found one record:', record)\n",
    "\n",
    "records = collection.find()\n",
    "for record in records:\n",
    "    print(record)\n"
   ]
  },
  {
   "cell_type": "markdown",
   "id": "4c0e09ef",
   "metadata": {},
   "source": [
    "# Q5. Explain how you can use the find() method to query the MongoDB database. Write a simple code to demonstrate this.\n",
    "\n",
    "The find method in MongoDB selects documents in a collection or view and returns a curser to the selected documents.\n",
    "\n",
    "sample code :-\n",
    "\n",
    "from pymongo import MongoClient\n",
    "\n",
    "client = MongoClient('localhost', 27017)\n",
    "\n",
    "db = client['mydatabase']\n",
    "\n",
    "collection = db['mycollection']\n",
    "\n",
    "records = [\n",
    "    {'name': 'John', 'age': 25},\n",
    "    {'name': 'Jane', 'age': 22},\n",
    "    {'name': 'Bob', 'age': 30},\n",
    "    {'name': 'Alice', 'age': 27}\n",
    "]\n",
    "result = collection.insert_many(records)\n",
    "\n",
    "records = collection.find({'age': {'$gte': 25}})\n",
    "for record in records:\n",
    "    print(record)\n"
   ]
  },
  {
   "cell_type": "markdown",
   "id": "e5fd183a",
   "metadata": {},
   "source": [
    "# Q6. Explain the sort() method. Give an example to demonstrate sorting in MongoDB.\n",
    "\n",
    "from pymongo import MongoClient\n",
    "\n",
    "client = MongoClient('localhost', 27017)\n",
    "\n",
    "db = client['mydatabase']\n",
    "\n",
    "collection = db['mycollection']\n",
    "\n",
    "records = [\n",
    "    {'name': 'John', 'age': 25},\n",
    "    {'name': 'Jane', 'age': 22},\n",
    "    {'name': 'Bob', 'age': 30},\n",
    "    {'name': 'Alice', 'age': 27}\n",
    "]\n",
    "result = collection.insert_many(records)\n",
    "\n",
    "records = collection.find().sort('age')\n",
    "for record in records:\n",
    "    print(record)\n"
   ]
  },
  {
   "cell_type": "markdown",
   "id": "9a0cfe47",
   "metadata": {},
   "source": [
    "# Q7. Explain why delete_one(), delete_many(), and drop() is used.\n",
    "\n",
    "In MongoDb delete_one() is used to delete a single document.\n",
    "Delete_many() is used to delete multiple document.\n",
    "Drop() is used to delete the entire document in a dataset."
   ]
  }
 ],
 "metadata": {
  "kernelspec": {
   "display_name": "Python 3 (ipykernel)",
   "language": "python",
   "name": "python3"
  },
  "language_info": {
   "codemirror_mode": {
    "name": "ipython",
    "version": 3
   },
   "file_extension": ".py",
   "mimetype": "text/x-python",
   "name": "python",
   "nbconvert_exporter": "python",
   "pygments_lexer": "ipython3",
   "version": "3.9.13"
  }
 },
 "nbformat": 4,
 "nbformat_minor": 5
}

{
 "cells": [
  {
   "cell_type": "markdown",
   "id": "6ce0607f",
   "metadata": {},
   "source": [
    "# Q1. What is Web Scraping? Why is it Used? Give three areas where Web Scraping is used to get data.\n",
    "\n",
    "Web scrapping is the process of extracting data from websites using software. It involves making an http request to a website's server , downloading the page's HTML and praising it to extract the desired data.\n",
    "\n",
    "Web scrapping is udsed for various purposes such as collecting information for analysis , comparision or indexing.\n",
    "\n",
    "Craawling and indexing websites for search engines.\n",
    "\n",
    "COllecting data for market research or competitor analysis.\n",
    "\n",
    "These are some examples of uses of web scrapping."
   ]
  },
  {
   "cell_type": "markdown",
   "id": "896b0cc7",
   "metadata": {},
   "source": [
    "# Q2. What are the different methods used for Web Scraping?\n",
    "\n",
    "There are many different ways to perform web scrapping to obtain data from websites.\n",
    "\n",
    "Here are some exaamples:\n",
    "    \n",
    "    Human copy and paste.\n",
    "    Text pattern matching.\n",
    "    HTTP programming.\n",
    "    HTML parsing.\n",
    "    DOM parsing.\n",
    "    Vertical aggregation.\n",
    "    Semantic annotation recognizing.\n",
    "    \n",
    "etc."
   ]
  },
  {
   "cell_type": "markdown",
   "id": "08530067",
   "metadata": {},
   "source": [
    "# Q3. What is Beautiful Soup? Why is it used?\n",
    "\n",
    "BeautifulSoup is a python package used for parsing HTML and XML document.\n",
    "\n",
    "It creates a parse tree for parsed pages which can be used for web scrapping and pulls data from HTML and XML files.\n",
    "\n",
    "It transforms a complex HTML document into a tree of python objects and automatically converts the document to unicode and also it helps us to clean the data."
   ]
  },
  {
   "cell_type": "markdown",
   "id": "9fb35963",
   "metadata": {},
   "source": [
    "# Q4. Why is flask used in this Web Scraping project?\n",
    "\n",
    "Basically flask is used for create APIs.\n",
    "\n",
    "In this project we need to show the exact desired data so for that we need to create an api.\n",
    "\n",
    "For this reason we use flask here."
   ]
  },
  {
   "cell_type": "markdown",
   "id": "65493e18",
   "metadata": {},
   "source": [
    "# Q5. Write the names of AWS services used in this project. Also, explain the use of each service.\n",
    "\n",
    "The names of the AWS services used in this project are:\n",
    "    CODE PIPELINE\n",
    "    \n",
    "    ELASTIC BEANSTALK\n",
    "    \n",
    "Code pipeline is a service that helps to connect the AWS account to the Github repository to fetch the code.\n",
    "\n",
    "Elastic beanstalk is anathor service of AWS that connected with the code pipeline and helps us to deploy the code on aws platform."
   ]
  }
 ],
 "metadata": {
  "kernelspec": {
   "display_name": "Python 3 (ipykernel)",
   "language": "python",
   "name": "python3"
  },
  "language_info": {
   "codemirror_mode": {
    "name": "ipython",
    "version": 3
   },
   "file_extension": ".py",
   "mimetype": "text/x-python",
   "name": "python",
   "nbconvert_exporter": "python",
   "pygments_lexer": "ipython3",
   "version": "3.9.13"
  }
 },
 "nbformat": 4,
 "nbformat_minor": 5
}

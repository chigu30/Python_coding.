{
 "cells": [
  {
   "cell_type": "code",
   "execution_count": 9,
   "id": "bfa5618b",
   "metadata": {},
   "outputs": [],
   "source": [
    "# Q1. Write a python program to extract the video URL of the first five videos.\n",
    "\n",
    "import requests\n",
    "from bs4 import BeautifulSoup\n",
    "from urllib.request import urlopen\n",
    "import csv\n",
    "url = \"https://www.youtube.com/@PW-Foundation/videos\"\n",
    "\n",
    "response = requests.get(url)\n",
    "soup = BeautifulSoup(response.text, 'html.parser')\n",
    "\n",
    "video_links = soup.find_all('a', {'class': 'yt-simple-endpoint style-scope ytd-grid-video-renderer'})\n",
    "\n",
    "video_urls = []\n",
    "\n",
    "for link in video_links[:5]:\n",
    "    video_url = \"https://www.youtube.com\" + link['href']\n",
    "    video_urls.append(video_url)\n",
    "\n",
    "for video in video_urls:\n",
    "    print(video)"
   ]
  },
  {
   "cell_type": "code",
   "execution_count": 10,
   "id": "f7aee225",
   "metadata": {},
   "outputs": [],
   "source": [
    "# Q2. Write a python program to extract the URL of the video thumbnails of the first five videos.\n",
    "\n",
    "response = requests.get(url)\n",
    "soup = BeautifulSoup(response.text, 'html.parser')\n",
    "\n",
    "thumbnail_links = soup.find_all('a', {'class': 'yt-simple-endpoint style-scope ytd-grid-video-renderer'})\n",
    "thumbnail_urls = []\n",
    "\n",
    "for link in thumbnail_links[:5]:\n",
    "    thumbnail_url = link.find('img')['src']\n",
    "    thumbnail_urls.append(thumbnail_url)\n",
    "\n",
    "for thumbnail in thumbnail_urls:\n",
    "    print(thumbnail)"
   ]
  },
  {
   "cell_type": "code",
   "execution_count": 11,
   "id": "6b886b8b",
   "metadata": {},
   "outputs": [],
   "source": [
    "# Q3. Write a python program to extract the title of the first five videos.\n",
    "\n",
    "response = requests.get(url)\n",
    "soup = BeautifulSoup(response.text, 'html.parser')\n",
    "\n",
    "title_links = soup.find_all('a', {'class': 'yt-simple-endpoint style-scope ytd-grid-video-renderer'})\n",
    "titles = []\n",
    "\n",
    "for link in title_links[:5]:\n",
    "    title = link.find('span', {'class': 'style-scope ytd-grid-video-renderer'}).text\n",
    "    titles.append(title)\n",
    "\n",
    "for title in titles:\n",
    "    print(title)"
   ]
  },
  {
   "cell_type": "code",
   "execution_count": 12,
   "id": "e94471e1",
   "metadata": {},
   "outputs": [],
   "source": [
    "# Q4. Write a python program to extract the number of views of the first five videos.\n",
    "\n",
    "response = requests.get(url)\n",
    "soup = BeautifulSoup(response.text, 'html.parser')\n",
    "\n",
    "view_links = soup.find_all('a', {'class': 'yt-simple-endpoint style-scope ytd-grid-video-renderer'})\n",
    "views = []\n",
    "\n",
    "for link in view_links[:5]:\n",
    "    view = link.find('span', {'class': 'style-scope ytd-grid-video-renderer'}).text\n",
    "    views.append(view)\n",
    "\n",
    "for view in views:\n",
    "    print(view)"
   ]
  },
  {
   "cell_type": "code",
   "execution_count": 13,
   "id": "92010015",
   "metadata": {},
   "outputs": [],
   "source": [
    "# Q5. Write a python program to extract the time of posting of video for the first five videos.\n",
    "\n",
    "response = requests.get(url)\n",
    "soup = BeautifulSoup(response.text, 'html.parser')\n",
    "\n",
    "time_links = soup.find_all('a', {'class': 'yt-simple-endpoint style-scope ytd-grid-video-renderer'})\n",
    "times = []\n",
    "\n",
    "for link in time_links[:5]:\n",
    "    time = link.find('span', {'class': 'style-scope ytd-grid-video-renderer'}).text\n",
    "    times.append(time)\n",
    "\n",
    "for time in times:\n",
    "    print(time)"
   ]
  },
  {
   "cell_type": "code",
   "execution_count": 15,
   "id": "85be60a3",
   "metadata": {},
   "outputs": [
    {
     "name": "stdout",
     "output_type": "stream",
     "text": [
      "Data has been scraped and saved to video_data.csv\n"
     ]
    }
   ],
   "source": [
    "data = []\n",
    "\n",
    "data.append([video_urls,thumbnail_urls,titles,views,times])\n",
    "\n",
    "csv_file = \"video_data.csv\"\n",
    "\n",
    "with open(csv_file, \"w\", newline=\"\", encoding=\"utf-8\") as file:\n",
    "    \n",
    "    writer = csv.writer(file)\n",
    "    \n",
    "    writer.writerow([\"Video URL\", \"Thumbnail URL\", \"Title\", \"Views\", \"Posting Time\"])\n",
    "    \n",
    "    writer.writerows(data)\n",
    "\n",
    "print(f\"Data has been scraped and saved to {csv_file}\")"
   ]
  }
 ],
 "metadata": {
  "kernelspec": {
   "display_name": "Python 3 (ipykernel)",
   "language": "python",
   "name": "python3"
  },
  "language_info": {
   "codemirror_mode": {
    "name": "ipython",
    "version": 3
   },
   "file_extension": ".py",
   "mimetype": "text/x-python",
   "name": "python",
   "nbconvert_exporter": "python",
   "pygments_lexer": "ipython3",
   "version": "3.9.13"
  }
 },
 "nbformat": 4,
 "nbformat_minor": 5
}

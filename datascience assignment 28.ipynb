{
 "cells": [
  {
   "cell_type": "markdown",
   "id": "8e104ee2",
   "metadata": {},
   "source": [
    "# Q1. What are the three measures of central tendency?\n",
    "\n",
    "1. Mean\n",
    "\n",
    "2. Median\n",
    "\n",
    "3. Mode"
   ]
  },
  {
   "cell_type": "markdown",
   "id": "b6a889d6",
   "metadata": {},
   "source": [
    "# Q2. What is the difference between the mean, median, and mode? How are they used to measure the central tendency of a dataset?\n",
    "\n",
    "Mean-It is a arithmetic average number of data points.It is used to sum of all nos of data points divide by total no of points.\n",
    "\n",
    "Median-It is a midpoint where they are arranged in ascending order.\n",
    "\n",
    "Mode-It is a value that appears most frequently in a set of numbers. If it occurs more than a one time then it is a mode."
   ]
  },
  {
   "cell_type": "markdown",
   "id": "bfb43a7e",
   "metadata": {},
   "source": [
    "# Q3. Measure the three measures of central tendency for the given height data:"
   ]
  },
  {
   "cell_type": "code",
   "execution_count": 4,
   "id": "8043e502",
   "metadata": {},
   "outputs": [
    {
     "name": "stdout",
     "output_type": "stream",
     "text": [
      "177.01875\n",
      "177.0\n",
      "[177.]\n"
     ]
    },
    {
     "name": "stderr",
     "output_type": "stream",
     "text": [
      "C:\\Users\\Lakxs\\AppData\\Local\\Temp\\ipykernel_19164\\2881904726.py:13: FutureWarning: Unlike other reduction functions (e.g. `skew`, `kurtosis`), the default behavior of `mode` typically preserves the axis it acts along. In SciPy 1.11.0, this behavior will change: the default value of `keepdims` will become False, the `axis` over which the statistic is taken will be eliminated, and the value None will no longer be accepted. Set `keepdims` to True or False to avoid this warning.\n",
      "  print(stats.mode(lis)[0])\n"
     ]
    }
   ],
   "source": [
    "# [178,177,176,177,178.2,178,175,179,180,175,178.9,176.2,177,172.5,178,176.5]\n",
    "\n",
    "import numpy as np\n",
    "\n",
    "from scipy import stats\n",
    "\n",
    "lis=[178,177,176,177,178.2,178,175,179,180,175,178.9,176.2,177,172.5,178,176.5]\n",
    "\n",
    "print(np.mean(lis))\n",
    "\n",
    "print(np.median(lis))\n",
    "\n",
    "print(stats.mode(lis)[0])"
   ]
  },
  {
   "cell_type": "markdown",
   "id": "d8771ae5",
   "metadata": {},
   "source": [
    "# Q4. Find the standard deviation for the given data:"
   ]
  },
  {
   "cell_type": "code",
   "execution_count": 5,
   "id": "fc6b5ac1",
   "metadata": {},
   "outputs": [
    {
     "data": {
      "text/plain": [
       "1.7885814036548633"
      ]
     },
     "execution_count": 5,
     "metadata": {},
     "output_type": "execute_result"
    }
   ],
   "source": [
    "# [178,177,176,177,178.2,178,175,179,180,175,178.9,176.2,177,172.5,178,176.5]\n",
    "\n",
    "nos=[178,177,176,177,178.2,178,175,179,180,175,178.9,176.2,177,172.5,178,176.5]\n",
    "\n",
    "np.std(nos)"
   ]
  },
  {
   "cell_type": "markdown",
   "id": "6911d858",
   "metadata": {},
   "source": [
    "# Q5. How are measures of dispersion such as range, variance, and standard deviation used to describe the spread of a dataset? Provide an example.\n",
    "\n",
    "Range-It is difference between min and max value in dataset.It shows how is our data is spread out.Eg-if the range of a dataset of test scores is 40, it means that the highest score is 40 points higher than the lowest score.\n",
    "\n",
    "Variance-It means how much data points in dataset deviate from the mean.A high variance indicates that the data points are spread out from the mean, while a low variance indicates that they are close to the mean.\n",
    "\n",
    "Standard deviation-Standard deviation is the square root of the variance. It is a commonly used measure of dispersion because it is in the same units as the data. A high standard deviation indicates that the data points are spread out from the mean, while a low standard deviation indicates that they are close to the mean. For example, if the standard deviation of a dataset of test scores is 10, it means that most of the scores are within 10 points of the mean score."
   ]
  },
  {
   "cell_type": "markdown",
   "id": "2fce5ea0",
   "metadata": {},
   "source": [
    "# Q6. What is a Venn diagram?\n",
    "\n",
    "Ans-It is a graphical representation between the sets.It is overlapping of circles,each representing a dataset.It is used in mathematics, logic, and statistics to visualize the relationships between sets."
   ]
  },
  {
   "cell_type": "markdown",
   "id": "e7c3048a",
   "metadata": {},
   "source": [
    "# Q7. For the two given sets A = (2,3,4,5,6,7) & B = (0,2,6,8,10). Find:(i) A intersect B,(ii) A ⋃ B\n",
    "\n",
    "A intersect B = (2,6)\n",
    "\n",
    "A U B = (0,2,3,4,5,6,7,8,10)"
   ]
  },
  {
   "cell_type": "markdown",
   "id": "421dd9a2",
   "metadata": {},
   "source": [
    "# Q8. What do you understand about skewness in data?\n",
    "\n",
    "Ans-It means that data is not symmetrical.If a data is skewed,then the data is not evenly balanced around the mean."
   ]
  },
  {
   "cell_type": "markdown",
   "id": "99e679f9",
   "metadata": {},
   "source": [
    "# Q9. If a data is right skewed then what will be the position of median with respect to mean?\n",
    "\n",
    "Ans-It means that mean is greater than median."
   ]
  },
  {
   "cell_type": "markdown",
   "id": "543b2baa",
   "metadata": {},
   "source": [
    "# Q10. Explain the difference between covariance and correlation. How are these measures used in statistical analysis?\n",
    "\n",
    "Ans-Covariances is the measure in which 2 variables are linearly related.Correlation is strength of relationships between 2 variables. Covariance can take any value between negative infinity and positive infinity, while correlation ranges from -1 to +1."
   ]
  },
  {
   "cell_type": "markdown",
   "id": "5f2c3f97",
   "metadata": {},
   "source": [
    "# Q11. What is the formula for calculating the sample mean? Provide an example calculation for a dataset.\n",
    "\n",
    "Formula-sum(xi)/n"
   ]
  },
  {
   "cell_type": "code",
   "execution_count": 6,
   "id": "ca1796f4",
   "metadata": {},
   "outputs": [
    {
     "data": {
      "text/html": [
       "<div>\n",
       "<style scoped>\n",
       "    .dataframe tbody tr th:only-of-type {\n",
       "        vertical-align: middle;\n",
       "    }\n",
       "\n",
       "    .dataframe tbody tr th {\n",
       "        vertical-align: top;\n",
       "    }\n",
       "\n",
       "    .dataframe thead th {\n",
       "        text-align: right;\n",
       "    }\n",
       "</style>\n",
       "<table border=\"1\" class=\"dataframe\">\n",
       "  <thead>\n",
       "    <tr style=\"text-align: right;\">\n",
       "      <th></th>\n",
       "      <th>total_bill</th>\n",
       "      <th>tip</th>\n",
       "      <th>sex</th>\n",
       "      <th>smoker</th>\n",
       "      <th>day</th>\n",
       "      <th>time</th>\n",
       "      <th>size</th>\n",
       "    </tr>\n",
       "  </thead>\n",
       "  <tbody>\n",
       "    <tr>\n",
       "      <th>0</th>\n",
       "      <td>16.99</td>\n",
       "      <td>1.01</td>\n",
       "      <td>Female</td>\n",
       "      <td>No</td>\n",
       "      <td>Sun</td>\n",
       "      <td>Dinner</td>\n",
       "      <td>2</td>\n",
       "    </tr>\n",
       "    <tr>\n",
       "      <th>1</th>\n",
       "      <td>10.34</td>\n",
       "      <td>1.66</td>\n",
       "      <td>Male</td>\n",
       "      <td>No</td>\n",
       "      <td>Sun</td>\n",
       "      <td>Dinner</td>\n",
       "      <td>3</td>\n",
       "    </tr>\n",
       "    <tr>\n",
       "      <th>2</th>\n",
       "      <td>21.01</td>\n",
       "      <td>3.50</td>\n",
       "      <td>Male</td>\n",
       "      <td>No</td>\n",
       "      <td>Sun</td>\n",
       "      <td>Dinner</td>\n",
       "      <td>3</td>\n",
       "    </tr>\n",
       "    <tr>\n",
       "      <th>3</th>\n",
       "      <td>23.68</td>\n",
       "      <td>3.31</td>\n",
       "      <td>Male</td>\n",
       "      <td>No</td>\n",
       "      <td>Sun</td>\n",
       "      <td>Dinner</td>\n",
       "      <td>2</td>\n",
       "    </tr>\n",
       "    <tr>\n",
       "      <th>4</th>\n",
       "      <td>24.59</td>\n",
       "      <td>3.61</td>\n",
       "      <td>Female</td>\n",
       "      <td>No</td>\n",
       "      <td>Sun</td>\n",
       "      <td>Dinner</td>\n",
       "      <td>4</td>\n",
       "    </tr>\n",
       "  </tbody>\n",
       "</table>\n",
       "</div>"
      ],
      "text/plain": [
       "   total_bill   tip     sex smoker  day    time  size\n",
       "0       16.99  1.01  Female     No  Sun  Dinner     2\n",
       "1       10.34  1.66    Male     No  Sun  Dinner     3\n",
       "2       21.01  3.50    Male     No  Sun  Dinner     3\n",
       "3       23.68  3.31    Male     No  Sun  Dinner     2\n",
       "4       24.59  3.61  Female     No  Sun  Dinner     4"
      ]
     },
     "execution_count": 6,
     "metadata": {},
     "output_type": "execute_result"
    }
   ],
   "source": [
    "import seaborn as sns\n",
    "df=sns.load_dataset('tips')\n",
    "df.head()"
   ]
  },
  {
   "cell_type": "code",
   "execution_count": 7,
   "id": "33275068",
   "metadata": {},
   "outputs": [
    {
     "name": "stderr",
     "output_type": "stream",
     "text": [
      "C:\\Users\\Lakxs\\AppData\\Local\\Temp\\ipykernel_19164\\3698961737.py:1: FutureWarning: Dropping of nuisance columns in DataFrame reductions (with 'numeric_only=None') is deprecated; in a future version this will raise TypeError.  Select only valid columns before calling the reduction.\n",
      "  df.mean()\n"
     ]
    },
    {
     "data": {
      "text/plain": [
       "total_bill    19.785943\n",
       "tip            2.998279\n",
       "size           2.569672\n",
       "dtype: float64"
      ]
     },
     "execution_count": 7,
     "metadata": {},
     "output_type": "execute_result"
    }
   ],
   "source": [
    "df.mean()"
   ]
  },
  {
   "cell_type": "markdown",
   "id": "a332e45f",
   "metadata": {},
   "source": [
    "# Q12. For a normal distribution data what is the relationship between its measure of central tendency?\n",
    "\n",
    "Mean,median and mode are equal."
   ]
  },
  {
   "cell_type": "markdown",
   "id": "ad26c7dc",
   "metadata": {},
   "source": [
    "# Q13. How is covariance different from correlation?\n",
    "\n",
    "Covariance measures how two variables change together, while correlation measures the strength and direction of their relationship. Covariance can take any value between negative infinity and positive infinity, while correlation ranges from -1 to +1."
   ]
  },
  {
   "cell_type": "markdown",
   "id": "e36c06c3",
   "metadata": {},
   "source": [
    "# Q14. How do outliers affect measures of central tendency and dispersion? Provide an example.\n",
    "\n",
    "Outliers can have a significant impact on measures of central tendency and dispersion. Measures of central tendency such as the mean are highly sensitive to outliers because they can be much larger or smaller than the other values in the dataset. This can cause the mean to be pulled away from the center of the distribution. Measures of dispersion such as variance are also highly sensitive to outliers because they can be much larger or smaller than the other values in the dataset. This can cause the variance to be much larger than it would be if there were no outliers.\n",
    "\n",
    "For example, consider a dataset of test scores for a class of students:\n",
    "\n",
    "{60, 70, 80, 90, 100}\n",
    "\n",
    "The mean score is:\n",
    "\n",
    "(60 + 70 + 80 + 90 + 100) / 5 = 80\n",
    "\n",
    "Now consider a dataset with an outlier:\n",
    "\n",
    "{60, 70, 80, 90, 1000}\n",
    "\n",
    "The mean score is:\n",
    "\n",
    "(60 + 70 + 80 + 90 + 1000) / 5 = 260\n",
    "\n",
    "As you can see, the outlier has a significant impact on the mean score. The variance is also affected by the outlier:\n",
    "\n",
    "Variance = ((60 - 260)^2 + (70 - 260)^2 + (80 - 260)^2 + (90 - 260)^2 + (1000 - 260)^2) / (5 -1) = 123200"
   ]
  }
 ],
 "metadata": {
  "kernelspec": {
   "display_name": "Python 3 (ipykernel)",
   "language": "python",
   "name": "python3"
  },
  "language_info": {
   "codemirror_mode": {
    "name": "ipython",
    "version": 3
   },
   "file_extension": ".py",
   "mimetype": "text/x-python",
   "name": "python",
   "nbconvert_exporter": "python",
   "pygments_lexer": "ipython3",
   "version": "3.9.13"
  }
 },
 "nbformat": 4,
 "nbformat_minor": 5
}

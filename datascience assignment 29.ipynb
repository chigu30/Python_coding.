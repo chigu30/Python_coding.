{
 "cells": [
  {
   "cell_type": "markdown",
   "id": "4ddfbf89",
   "metadata": {},
   "source": [
    "# Q1. What is the Probability density function?\n",
    "\n",
    "When we have a continous random variable then the distribution of that variable is specifically denoted by probability density function."
   ]
  },
  {
   "cell_type": "markdown",
   "id": "98286a8c",
   "metadata": {},
   "source": [
    "# Q2. What are the types of Probability distribution?\n",
    "\n",
    "1) Normal Distribution (Gaussian Distribution): The normal distribution is a symmetrical bell-shaped distribution characterized   by its mean and standard deviation. Many real-world phenomena follow a normal distribution, making it widely used in             statistical analysis.\n",
    "\n",
    "2) Binomial Distribution: The binomial distribution models the number of successes in a fixed number of independent Bernoulli     trials. It is characterized by two parameters: the probability of success in each trial and the number of trials.\n",
    "\n",
    "3) Poisson Distribution: The Poisson distribution models the number of events that occur in a fixed interval of time or space,     given the average rate of occurrence. It is often used to model rare events or occurrences in various fields such as             insurance, telecommunications, and queuing theory.\n",
    "\n",
    "4) Exponential Distribution: The exponential distribution models the time between events in a Poisson process, where events       occur randomly and independently. It is commonly used to model time-to-failure or waiting times between events.\n",
    "\n",
    "5) Uniform Distribution: The uniform distribution represents a constant probability for each value within a specified interval.   It is often used when all outcomes within a range are equally likely."
   ]
  },
  {
   "cell_type": "code",
   "execution_count": 1,
   "id": "402c5a28",
   "metadata": {},
   "outputs": [
    {
     "name": "stdout",
     "output_type": "stream",
     "text": [
      "PDF at x = 1.5 : 0.12951759566589174\n"
     ]
    }
   ],
   "source": [
    "# Q3. Write a Python function to calculate the probability density function of a normal distribution with given mean and standard deviation at a given point.\n",
    "\n",
    "from scipy.stats import norm\n",
    "\n",
    "def calculate_normal_pdf(x, mean, std_dev):\n",
    "    pdf = norm.pdf(x, mean, std_dev)\n",
    "    return pdf\n",
    "mean = 0\n",
    "std_dev = 1\n",
    "x = 1.5\n",
    "\n",
    "pdf_value = calculate_normal_pdf(x, mean, std_dev)\n",
    "print(\"PDF at x =\", x, \":\", pdf_value)"
   ]
  },
  {
   "cell_type": "markdown",
   "id": "7eec983b",
   "metadata": {},
   "source": [
    "# Q4. What are the properties of Binomial distribution? Give two examples of events where binomial distribution can be applied.\n",
    "\n",
    "The properties of the binomial distribution are as follows:\n",
    "\n",
    "1) Fixed number of trials: The binomial distribution represents a fixed number of independent trials or experiments.\n",
    "\n",
    "2) Two possible outcomes: Each trial has only two possible outcomes, often referred to as success and failure.\n",
    "\n",
    "3) Independent trials: Each trial is independent of the others, meaning that the outcome of one trial does not affect the outcome of the others.\n",
    "\n",
    "4) Constant probability: The probability of success remains constant for each trial.\n",
    "\n",
    "Examples of events where the binomial distribution can be applied:\n",
    "\n",
    "1) Coin Flipping: When flipping a fair coin, the outcome can be either heads or tails. Each flip is considered an independent trial, and the probability of getting heads (success) or tails (failure) remains constant at 0.5.\n",
    "\n",
    "2) Exam Pass/Fail: Consider a scenario where students take an exam with a pass/fail outcome. Each student is considered an independent trial, and the probability of passing the exam remains constant. The binomial distribution can be used to analyze the number of students who pass or fail the exam based on the given probability of success."
   ]
  },
  {
   "cell_type": "code",
   "execution_count": 2,
   "id": "244ba45d",
   "metadata": {},
   "outputs": [
    {
     "data": {
      "image/png": "[encoded data removed]",
      "text/plain": [
       "<Figure size 640x480 with 1 Axes>"
      ]
     },
     "metadata": {},
     "output_type": "display_data"
    }
   ],
   "source": [
    "# Q5. Generate a random sample of size 1000 from a binomial distribution with probability of success 0.4 and plot a histogram of the results using matplotlib.\n",
    "\n",
    "import numpy as np\n",
    "import matplotlib.pyplot as plt\n",
    "\n",
    "n = 1000  \n",
    "p = 0.4  \n",
    "\n",
    "\n",
    "sample = np.random.binomial(n, p, size=1000)\n",
    "\n",
    "plt.hist(sample, bins=30, edgecolor='black')\n",
    "plt.xlabel('Number of Successes')\n",
    "plt.ylabel('Frequency')\n",
    "plt.title('Histogram of Binomial Distribution')\n",
    "plt.show()\n"
   ]
  },
  {
   "cell_type": "code",
   "execution_count": 3,
   "id": "7adc4044",
   "metadata": {},
   "outputs": [
    {
     "name": "stdout",
     "output_type": "stream",
     "text": [
      "CDF: 0.32084719886213414\n"
     ]
    }
   ],
   "source": [
    "# Q6. Write a Python function to calculate the cumulative distribution function of a Poisson distribution with given mean at a given point.\n",
    "\n",
    "from scipy.stats import poisson\n",
    "\n",
    "def calculate_poisson_cdf(mean, point):\n",
    "    cdf = poisson.cdf(point, mu=mean)\n",
    "    return cdf\n",
    "mean = 3.5\n",
    "point = 2\n",
    "\n",
    "cdf = calculate_poisson_cdf(mean, point)\n",
    "print(\"CDF:\", cdf)"
   ]
  },
  {
   "cell_type": "markdown",
   "id": "64e67978",
   "metadata": {},
   "source": [
    "# Q7. How Binomial distribution different from Poisson distribution?\n",
    "\n",
    "Number of Trials: The Binomial distribution is used when the number of trials is fixed and known in advance, while the Poisson distribution is used when the number of events or trials is not fixed and can vary.\n",
    "\n",
    "Nature of Events: The Binomial distribution is used to model the number of successes or events in a fixed number of independent and identical trials, where each trial can result in either success or failure. The Poisson distribution, on the other hand, is used to model the number of rare events occurring in a fixed time period or space, where the events occur randomly and independently.\n",
    "\n",
    "Parameters: The Binomial distribution has two parameters: the number of trials (n) and the probability of success in each trial (p). The Poisson distribution has only one parameter: the average rate or mean number of events (λ) occurring in the given time period or space.\n",
    "\n",
    "Shape: The shape of the Binomial distribution is typically bell-shaped and symmetric when the number of trials is large, resembling a normal distribution. The shape of the Poisson distribution is skewed right, as it represents the occurrence of rare events.\n",
    "\n",
    "Limitations: The Binomial distribution is suitable for discrete events and a small probability of success, while the Poisson distribution is suitable for rare events and a low average rate of occurrence."
   ]
  },
  {
   "cell_type": "code",
   "execution_count": 4,
   "id": "73dbe0b4",
   "metadata": {},
   "outputs": [
    {
     "name": "stdout",
     "output_type": "stream",
     "text": [
      "Sample Mean: 5.113\n",
      "Sample Variance: 5.066231\n"
     ]
    }
   ],
   "source": [
    "# Q8. Generate a random sample of size 1000 from a Poisson distribution with mean 5 and calculate the sample mean and variance.\n",
    "\n",
    "import numpy as np\n",
    "\n",
    "sample = np.random.poisson(5, size=1000)\n",
    "\n",
    "sample_mean = np.mean(sample)\n",
    "sample_variance = np.var(sample)\n",
    "\n",
    "print(\"Sample Mean:\", sample_mean)\n",
    "print(\"Sample Variance:\", sample_variance)"
   ]
  },
  {
   "cell_type": "markdown",
   "id": "b52566d3",
   "metadata": {},
   "source": [
    "# Q9. How mean and variance are related in Binomial distribution and Poisson distribution?\n",
    "\n",
    "Binomial Distribution:\n",
    "In a Binomial distribution, the mean (μ) is equal to the product of the number of trials (n) and the probability of success in each trial (p), i.e., μ = n * p. The variance (σ^2) is equal to the product of the number of trials (n), the probability of success (p), and the probability of failure (q = 1 - p), i.e., σ^2 = n * p * q. Therefore, the relationship between the mean and variance in a Binomial distribution is given by σ^2 = n * p * q = n * p * (1 - p).\n",
    "\n",
    "Poisson Distribution:\n",
    "In a Poisson distribution, the mean (λ) is equal to the variance (σ^2), i.e., μ = σ^2 = λ. This means that the mean and variance in a Poisson distribution are equal."
   ]
  },
  {
   "cell_type": "markdown",
   "id": "77a67097",
   "metadata": {},
   "source": [
    "# Q10. In normal distribution with respect to mean position, where does the least frequent data appear?\n",
    "\n",
    "In a normal distribution, the least frequent data appears at the tails of the distribution, away from the mean. The normal distribution is symmetric, with the mean at the center. As we move further away from the mean in both directions, the frequency of data points decreases. This is because the normal distribution follows a bell-shaped curve, with the highest concentration of data points around the mean.\n",
    "\n",
    "The tails of the normal distribution represent the extreme values, which occur with lower frequency. These extreme values are located at the outermost ends of the distribution, far away from the mean. The probability of observing data in these tails decreases rapidly as we move away from the mean. Therefore, the least frequent data points are found in the tails of the normal distribution."
   ]
  }
 ],
 "metadata": {
  "kernelspec": {
   "display_name": "Python 3 (ipykernel)",
   "language": "python",
   "name": "python3"
  },
  "language_info": {
   "codemirror_mode": {
    "name": "ipython",
    "version": 3
   },
   "file_extension": ".py",
   "mimetype": "text/x-python",
   "name": "python",
   "nbconvert_exporter": "python",
   "pygments_lexer": "ipython3",
   "version": "3.9.13"
  }
 },
 "nbformat": 4,
 "nbformat_minor": 5
}

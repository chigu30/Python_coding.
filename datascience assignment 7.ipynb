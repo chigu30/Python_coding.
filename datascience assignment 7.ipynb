{
 "cells": [
  {
   "cell_type": "code",
   "execution_count": 2,
   "id": "583035c4",
   "metadata": {},
   "outputs": [],
   "source": [
    "# Q1. What is Abstraction in OOps? Explain with an example.\n",
    "\n",
    "# Abstracction is the process of hiding the process of hiding the implemantation details and showing only the functionality to the user.\n",
    "\n",
    "import abc\n",
    "\n",
    "class institute:\n",
    "    \n",
    "    @abc.abstractmethod\n",
    "    def student_details(self):\n",
    "        pass\n",
    "    @abc.abstractmethod\n",
    "    def student_marks(self):\n",
    "        pass\n",
    "    @abc.abstractmethod\n",
    "    def assignment(self):\n",
    "        pass"
   ]
  },
  {
   "cell_type": "code",
   "execution_count": 11,
   "id": "48d1a52c",
   "metadata": {},
   "outputs": [
    {
     "name": "stdout",
     "output_type": "stream",
     "text": [
      "name : laxmikanta reg.no : 14405\n"
     ]
    },
    {
     "data": {
      "text/plain": [
       "'this is the students marks for assignment'"
      ]
     },
     "execution_count": 11,
     "metadata": {},
     "output_type": "execute_result"
    }
   ],
   "source": [
    "class details_students(institute):\n",
    "    def __init__(self,name,regno):\n",
    "        self.name = name\n",
    "        self.regno = regno\n",
    "    def student_details(self):\n",
    "        print('name :',self.name,'reg.no :',self.regno)\n",
    "    def student_marks(self):\n",
    "        return 'this is the students marks for assignment'\n",
    "\n",
    "sd = details_students(\"laxmikanta\",14405)\n",
    "sd.student_details()\n",
    "sd.student_marks()"
   ]
  },
  {
   "cell_type": "code",
   "execution_count": 12,
   "id": "5bb6af4f",
   "metadata": {},
   "outputs": [
    {
     "name": "stdout",
     "output_type": "stream",
     "text": [
      "student name : laxmikanta and reg.no : 14405\n"
     ]
    },
    {
     "data": {
      "text/plain": [
       "'this is the assignment for the students'"
      ]
     },
     "execution_count": 12,
     "metadata": {},
     "output_type": "execute_result"
    }
   ],
   "source": [
    "class assignment(institute):\n",
    "    def __init__(self,name,regno):\n",
    "        self.name = name\n",
    "        self.regno = regno\n",
    "    def student_details(self):\n",
    "        print('student name :',self.name,'and reg.no :',self.regno)\n",
    "    def assignment(self):\n",
    "        return 'this is the assignment for the students'\n",
    "    \n",
    "assn = assignment(\"laxmikanta\",14405)\n",
    "assn.student_details()\n",
    "assn.assignment()"
   ]
  },
  {
   "cell_type": "code",
   "execution_count": 15,
   "id": "89618bd9",
   "metadata": {},
   "outputs": [
    {
     "name": "stdout",
     "output_type": "stream",
     "text": [
      "salary : 25000\n"
     ]
    }
   ],
   "source": [
    "# Q2. Differentiate between Abstraction and Encapsulation. Explain with an example.\n",
    "\n",
    "# Abstraction and Encapsulation are two important concept of object oriented programming\n",
    "\n",
    "# While Abstraction is the process of hiding the implemantation details and showing only the functionality to the other user.\n",
    "\n",
    "# But Encapsulation is the process of wraping up data and methods into a single unit. It is used to protect data from\n",
    "\n",
    "# unauthorized access.\n",
    "\n",
    "# the above written code is the example of abstraction method.\n",
    "\n",
    "class employee:\n",
    "    def __init__(self,name,salary):\n",
    "        self.name = name\n",
    "        self.__salary = salary\n",
    "    def display_salary(self):\n",
    "        print('salary :',self.__salary)\n",
    "        \n",
    "e = employee('laxmikanta',25000)\n",
    "e.display_salary()\n",
    "\n",
    "# This is the example of Encapsulation"
   ]
  },
  {
   "cell_type": "code",
   "execution_count": 16,
   "id": "aa98c1fb",
   "metadata": {},
   "outputs": [],
   "source": [
    "# Q3. What is abc module in python? Why is it used?\n",
    "\n",
    "# The abc module in python is stands for Abstract base classes.\n",
    "\n",
    "# It is used for providing a way to define abstract classes that can be usedd as a basis for other classes."
   ]
  },
  {
   "cell_type": "code",
   "execution_count": 17,
   "id": "3a5e95c7",
   "metadata": {},
   "outputs": [],
   "source": [
    "# Q4. How can we achieve data abstraction?\n",
    "\n",
    "# Data Abstraction can be achieved in python OOPs using abstract classes and interfaces."
   ]
  },
  {
   "cell_type": "code",
   "execution_count": null,
   "id": "769b63a9",
   "metadata": {},
   "outputs": [],
   "source": [
    "# Q5. Can we create an instance of an abstract class? Explain your answer.\n",
    "\n",
    "# No, we cannot create an instance of an abstract class.\n",
    "\n",
    "# An abstract class is a class that contains one or more abstract methods.\n",
    "\n",
    "# An abstract method is a method that has a declaration but does not have an implementation.\n",
    "\n",
    "# An abstract class cannot be instantiated.\n",
    "\n",
    "# It can only be used as a base class for other classes."
   ]
  }
 ],
 "metadata": {
  "kernelspec": {
   "display_name": "Python 3 (ipykernel)",
   "language": "python",
   "name": "python3"
  },
  "language_info": {
   "codemirror_mode": {
    "name": "ipython",
    "version": 3
   },
   "file_extension": ".py",
   "mimetype": "text/x-python",
   "name": "python",
   "nbconvert_exporter": "python",
   "pygments_lexer": "ipython3",
   "version": "3.9.13"
  }
 },
 "nbformat": 4,
 "nbformat_minor": 5
}

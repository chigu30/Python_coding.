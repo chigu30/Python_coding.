{
 "cells": [
  {
   "cell_type": "code",
   "execution_count": 1,
   "id": "31cbbba2",
   "metadata": {},
   "outputs": [],
   "source": [
    "# Q1. What is an Exception in python? Write the difference between Exceptions and syntax errors.\n",
    "\n",
    "# Exception is defined as as a condition in a program that interrupts the flow of the program and stops the execution of the code.\n",
    "\n",
    "# The difference between exceptions and syntax errors is the syntax errors are problems in a program due to which the program will stop the execution.\n",
    "\n",
    "# and in the otther hand the exceptions are raised when some internal events occur which change the normal flow of the program."
   ]
  },
  {
   "cell_type": "code",
   "execution_count": 3,
   "id": "f5be95e9",
   "metadata": {},
   "outputs": [
    {
     "ename": "FileNotFoundError",
     "evalue": "[Errno 2] No such file or directory: 'self.txt'",
     "output_type": "error",
     "traceback": [
      "\u001b[1;31m---------------------------------------------------------------------------\u001b[0m",
      "\u001b[1;31mFileNotFoundError\u001b[0m                         Traceback (most recent call last)",
      "\u001b[1;32m~\\AppData\\Local\\Temp\\ipykernel_2040\\3048148963.py\u001b[0m in \u001b[0;36m<module>\u001b[1;34m\u001b[0m\n\u001b[0;32m      5\u001b[0m \u001b[1;31m# Example :\u001b[0m\u001b[1;33m\u001b[0m\u001b[1;33m\u001b[0m\u001b[0m\n\u001b[0;32m      6\u001b[0m \u001b[1;33m\u001b[0m\u001b[0m\n\u001b[1;32m----> 7\u001b[1;33m \u001b[0ml\u001b[0m \u001b[1;33m=\u001b[0m \u001b[0mopen\u001b[0m\u001b[1;33m(\u001b[0m\u001b[1;34m'self.txt'\u001b[0m\u001b[1;33m,\u001b[0m\u001b[1;34m'r'\u001b[0m\u001b[1;33m)\u001b[0m\u001b[1;33m\u001b[0m\u001b[1;33m\u001b[0m\u001b[0m\n\u001b[0m\u001b[0;32m      8\u001b[0m \u001b[1;33m\u001b[0m\u001b[0m\n\u001b[0;32m      9\u001b[0m \u001b[0ma\u001b[0m \u001b[1;33m=\u001b[0m \u001b[1;36m10\u001b[0m\u001b[1;33m\u001b[0m\u001b[1;33m\u001b[0m\u001b[0m\n",
      "\u001b[1;31mFileNotFoundError\u001b[0m: [Errno 2] No such file or directory: 'self.txt'"
     ]
    }
   ],
   "source": [
    "# Q2. What happens when an exception is not handeled ? Explain with example.\n",
    "\n",
    "# Whwn an exception is not handelled in a program then the error occurs and it doesn't allow the next code to execute.And then the program will stops working.\n",
    "\n",
    "# Example :\n",
    "\n",
    "l = open('self.txt','r')\n",
    "\n",
    "a = 10\n",
    "\n",
    "a+10\n",
    "\n",
    "# As you can see here we didn't handle the exceptions so the error occurs and it don't perform the next code.\n",
    "    "
   ]
  },
  {
   "cell_type": "code",
   "execution_count": 6,
   "id": "a9d0f9dd",
   "metadata": {},
   "outputs": [
    {
     "name": "stdout",
     "output_type": "stream",
     "text": [
      "This code is a exception [Errno 2] No such file or directory: 'self.text'\n"
     ]
    },
    {
     "data": {
      "text/plain": [
       "20"
      ]
     },
     "execution_count": 6,
     "metadata": {},
     "output_type": "execute_result"
    }
   ],
   "source": [
    "# Q3. Which Python statements are used to catch and handle exceptions ? Explain with an example.\n",
    "\n",
    "# Python provides two statements to catch and handle exceptions those are 'try' and 'except'.\n",
    "\n",
    "# Here is an example:\n",
    "\n",
    "try:\n",
    "    l = open('self.text','r')\n",
    "except Exception as e:\n",
    "    print('This code is a exception',e)\n",
    "    \n",
    "a = 10\n",
    "a + 10\n",
    "\n",
    "# Here as you can see we handle the exception with try and except statements."
   ]
  },
  {
   "cell_type": "code",
   "execution_count": 1,
   "id": "9a630eff",
   "metadata": {},
   "outputs": [
    {
     "name": "stdout",
     "output_type": "stream",
     "text": [
      "this code is executed succesfully\n",
      "[Errno 2] No such file or directory: 'asdf.txt'\n",
      "this is my finally block\n"
     ]
    },
    {
     "ename": "Exception",
     "evalue": "x should not exceed 5",
     "output_type": "error",
     "traceback": [
      "\u001b[1;31m---------------------------------------------------------------------------\u001b[0m",
      "\u001b[1;31mException\u001b[0m                                 Traceback (most recent call last)",
      "\u001b[1;32m~\\AppData\\Local\\Temp\\ipykernel_1748\\1520657676.py\u001b[0m in \u001b[0;36m<module>\u001b[1;34m\u001b[0m\n\u001b[0;32m     41\u001b[0m \u001b[0mx\u001b[0m \u001b[1;33m=\u001b[0m \u001b[1;36m10\u001b[0m\u001b[1;33m\u001b[0m\u001b[1;33m\u001b[0m\u001b[0m\n\u001b[0;32m     42\u001b[0m \u001b[1;32mif\u001b[0m \u001b[0mx\u001b[0m \u001b[1;33m>\u001b[0m \u001b[1;36m5\u001b[0m\u001b[1;33m:\u001b[0m\u001b[1;33m\u001b[0m\u001b[1;33m\u001b[0m\u001b[0m\n\u001b[1;32m---> 43\u001b[1;33m     \u001b[1;32mraise\u001b[0m \u001b[0mException\u001b[0m\u001b[1;33m(\u001b[0m\u001b[1;34m'x should not exceed 5'\u001b[0m\u001b[1;33m)\u001b[0m\u001b[1;33m\u001b[0m\u001b[1;33m\u001b[0m\u001b[0m\n\u001b[0m",
      "\u001b[1;31mException\u001b[0m: x should not exceed 5"
     ]
    }
   ],
   "source": [
    "# Q4. Explain with an example:\n",
    "#     a. try and else\n",
    "#     b. finally\n",
    "#     c. raise\n",
    "\n",
    "# The else statements is performed when the try block will executed successfully \n",
    "\n",
    "# if the try block is not executed succesfully then the else block is not gonna work.\n",
    "\n",
    "# Example of try and else:\n",
    "\n",
    "try:\n",
    "    l = open('self.txt','w')\n",
    "    l.write('this is my try and else block')\n",
    "except Exception as e:\n",
    "    print(e)\n",
    "else:\n",
    "    l.close()\n",
    "    print('this code is executed succesfully')\n",
    "    \n",
    "# As you can see the else statement is executed succesfully\n",
    "\n",
    "\n",
    "\n",
    "# finally is a statement whatever the try function is going to work you can execute your code with the help of finally statement.\n",
    "\n",
    "# example:\n",
    "\n",
    "try:\n",
    "    f = open('asdf.txt','r')\n",
    "except Exception as e:\n",
    "    print (e)\n",
    "finally:\n",
    "    print('this is my finally block')\n",
    "    \n",
    "\n",
    "    \n",
    "# raise is a function we use to raise an exception in python.\n",
    "\n",
    "# Example:\n",
    "x = 10\n",
    "if x > 5:\n",
    "    raise Exception('x should not exceed 5')"
   ]
  },
  {
   "cell_type": "code",
   "execution_count": 5,
   "id": "a6312a58",
   "metadata": {},
   "outputs": [
    {
     "name": "stdout",
     "output_type": "stream",
     "text": [
      "enter a number:-564\n",
      "no negative number allowed\n"
     ]
    }
   ],
   "source": [
    "# Q5. What are custom exception in python? Why do we need custom exception? Explain with an example.\n",
    "\n",
    "# Custom exception is an exception type that you define yourself in your project.\n",
    "\n",
    "# Custom exceptions provide you with the flexibility to add attributes and methords that are not part of standard exceptions.\n",
    "\n",
    "# Example:for custom exceeption we need to create a class for this.\n",
    "\n",
    "class myexception(Exception):\n",
    "    pass\n",
    "try:\n",
    "    x = int(input('enter a number:'))\n",
    "    if x < 0:\n",
    "            raise myexception('no negative number allowed')\n",
    "except myexception as e:\n",
    "            print(e)"
   ]
  },
  {
   "cell_type": "code",
   "execution_count": 9,
   "id": "5ac8c426",
   "metadata": {},
   "outputs": [
    {
     "name": "stdout",
     "output_type": "stream",
     "text": [
      "enter a number:-562\n",
      "no negative number allowed\n"
     ]
    }
   ],
   "source": [
    "# Q6. Create a custom exception class.Use this class to handle an exception.\n",
    "\n",
    "class myexception(Exception):\n",
    "    pass\n",
    "try:\n",
    "    x = int(input('enter a number:'))\n",
    "    if x < 0:\n",
    "            raise myexception('no negative number allowed')\n",
    "except myexception as e:\n",
    "            print(e)"
   ]
  }
 ],
 "metadata": {
  "kernelspec": {
   "display_name": "Python 3 (ipykernel)",
   "language": "python",
   "name": "python3"
  },
  "language_info": {
   "codemirror_mode": {
    "name": "ipython",
    "version": 3
   },
   "file_extension": ".py",
   "mimetype": "text/x-python",
   "name": "python",
   "nbconvert_exporter": "python",
   "pygments_lexer": "ipython3",
   "version": "3.9.13"
  }
 },
 "nbformat": 4,
 "nbformat_minor": 5
}

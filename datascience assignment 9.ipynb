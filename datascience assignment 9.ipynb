{
 "cells": [
  {
   "cell_type": "code",
   "execution_count": 1,
   "id": "970a9dfb",
   "metadata": {},
   "outputs": [],
   "source": [
    "# Q1. Explain why we have to use the Exception class while creating a Custom Exception.\n",
    "\n",
    "# The exception class is used as a base class for all built in exceptions in python.\n",
    "\n",
    "# When we create a custom exception class, we should inherit from the exception class to ensure that\n",
    "\n",
    "# our custom exception is compatable with the built in exception.\n",
    "\n",
    "# This allows us to use our custom exception in the same way as the built in exception do."
   ]
  },
  {
   "cell_type": "code",
   "execution_count": 3,
   "id": "aecdb5da",
   "metadata": {},
   "outputs": [],
   "source": [
    "# Q2. Write a python program to print Python Exception Hierarchy.\n",
    "\n",
    "import inspect\n",
    "\n",
    "def print_exception_hierarchy():\n",
    "    for name, obj in inspect.getmembers(__builtins__):\n",
    "        if inspect.isclass(obj) and issubclass(obj, BaseException):\n",
    "            print(name)"
   ]
  },
  {
   "cell_type": "code",
   "execution_count": 5,
   "id": "342f28dc",
   "metadata": {},
   "outputs": [
    {
     "name": "stdout",
     "output_type": "stream",
     "text": [
      "Error: division by zero\n"
     ]
    }
   ],
   "source": [
    "# Q3. What errors are defined in the ArithmeticError class? Explain any two with an example.\n",
    "\n",
    "# In Python, the ArithmeticError class is a base class for exceptions that occur during arithmetic operations.\n",
    "\n",
    "# two examples for arithematic error class are:\n",
    "\n",
    "# 1. division by zero error\n",
    "\n",
    "numerator = 10\n",
    "denominator = 0\n",
    "\n",
    "try:\n",
    "    result = numerator / denominator\n",
    "except ZeroDivisionError as error:\n",
    "    print(\"Error:\", error)\n",
    "\n",
    "# 2. overflow error:\n",
    "\n",
    "import sys\n",
    "\n",
    "max_value = sys.maxsize  \n",
    "\n",
    "try:\n",
    "    result = max_value + 1\n",
    "except OverflowError as error:\n",
    "    print(\"Error:\", error)\n"
   ]
  },
  {
   "cell_type": "code",
   "execution_count": 9,
   "id": "b32c00c6",
   "metadata": {},
   "outputs": [
    {
     "ename": "KeyError",
     "evalue": "'key3'",
     "output_type": "error",
     "traceback": [
      "\u001b[1;31m---------------------------------------------------------------------------\u001b[0m",
      "\u001b[1;31mKeyError\u001b[0m                                  Traceback (most recent call last)",
      "\u001b[1;32m~\\AppData\\Local\\Temp\\ipykernel_2912\\2636446825.py\u001b[0m in \u001b[0;36m<module>\u001b[1;34m\u001b[0m\n\u001b[0;32m      8\u001b[0m \u001b[1;33m\u001b[0m\u001b[0m\n\u001b[0;32m      9\u001b[0m \u001b[0mdictionary\u001b[0m \u001b[1;33m=\u001b[0m \u001b[1;33m{\u001b[0m\u001b[1;34m'key1'\u001b[0m\u001b[1;33m:\u001b[0m\u001b[1;34m'name'\u001b[0m\u001b[1;33m,\u001b[0m\u001b[1;34m'key2'\u001b[0m\u001b[1;33m:\u001b[0m\u001b[1;34m'number'\u001b[0m\u001b[1;33m}\u001b[0m\u001b[1;33m\u001b[0m\u001b[1;33m\u001b[0m\u001b[0m\n\u001b[1;32m---> 10\u001b[1;33m \u001b[0mprint\u001b[0m\u001b[1;33m(\u001b[0m\u001b[0mdictionary\u001b[0m\u001b[1;33m[\u001b[0m\u001b[1;34m'key3'\u001b[0m\u001b[1;33m]\u001b[0m\u001b[1;33m)\u001b[0m\u001b[1;33m\u001b[0m\u001b[1;33m\u001b[0m\u001b[0m\n\u001b[0m\u001b[0;32m     11\u001b[0m \u001b[1;33m\u001b[0m\u001b[0m\n\u001b[0;32m     12\u001b[0m \u001b[1;31m# index error : index error occurs when a index from any list or tuple or string is missing like:\u001b[0m\u001b[1;33m\u001b[0m\u001b[1;33m\u001b[0m\u001b[0m\n",
      "\u001b[1;31mKeyError\u001b[0m: 'key3'"
     ]
    }
   ],
   "source": [
    "# Q4. Why LookupError class is used? Explain with an example KeyError and IndexError.\n",
    "\n",
    "# The LookupError class is used as a base class for exceptions that occur when a key or index is not found in a collection.\n",
    "\n",
    "# It serves as a general superclass for more specific lookup-related exception classes in Python.\n",
    "\n",
    "# key error : this error is found when a key is not found in a dictionary.like:\n",
    "\n",
    "dictionary = {'key1':'name','key2':'number'}\n",
    "print(dictionary['key3'])\n",
    "\n"
   ]
  },
  {
   "cell_type": "code",
   "execution_count": 10,
   "id": "c0e50d61",
   "metadata": {},
   "outputs": [
    {
     "ename": "IndexError",
     "evalue": "list index out of range",
     "output_type": "error",
     "traceback": [
      "\u001b[1;31m---------------------------------------------------------------------------\u001b[0m",
      "\u001b[1;31mIndexError\u001b[0m                                Traceback (most recent call last)",
      "\u001b[1;32m~\\AppData\\Local\\Temp\\ipykernel_2912\\1494969200.py\u001b[0m in \u001b[0;36m<module>\u001b[1;34m\u001b[0m\n\u001b[0;32m      2\u001b[0m \u001b[1;33m\u001b[0m\u001b[0m\n\u001b[0;32m      3\u001b[0m \u001b[0mmy_list\u001b[0m \u001b[1;33m=\u001b[0m \u001b[1;33m[\u001b[0m\u001b[1;36m1\u001b[0m\u001b[1;33m,\u001b[0m\u001b[1;36m2\u001b[0m\u001b[1;33m,\u001b[0m\u001b[1;36m3\u001b[0m\u001b[1;33m,\u001b[0m\u001b[1;36m4\u001b[0m\u001b[1;33m]\u001b[0m\u001b[1;33m\u001b[0m\u001b[1;33m\u001b[0m\u001b[0m\n\u001b[1;32m----> 4\u001b[1;33m \u001b[0mprint\u001b[0m\u001b[1;33m(\u001b[0m\u001b[0mmy_list\u001b[0m\u001b[1;33m[\u001b[0m\u001b[1;36m5\u001b[0m\u001b[1;33m]\u001b[0m\u001b[1;33m)\u001b[0m\u001b[1;33m\u001b[0m\u001b[1;33m\u001b[0m\u001b[0m\n\u001b[0m",
      "\u001b[1;31mIndexError\u001b[0m: list index out of range"
     ]
    }
   ],
   "source": [
    "# index error : index error occurs when a index from any list or tuple or string is missing like:\n",
    "\n",
    "my_list = [1,2,3,4]\n",
    "print(my_list[5])"
   ]
  },
  {
   "cell_type": "code",
   "execution_count": 14,
   "id": "5ec1e891",
   "metadata": {},
   "outputs": [
    {
     "name": "stdout",
     "output_type": "stream",
     "text": [
      "import error: No module named 'notexistingfile'\n",
      "module not found error : No module named 'modulenotfound'\n"
     ]
    }
   ],
   "source": [
    "# Q5. Explain ImportError. What is ModuleNotFoundError?\n",
    "\n",
    "# ImportError and ModuleNotFoundError are both exceptions that can occur when importing modules in Python.\n",
    "\n",
    "# ImportError is a generic exception that occurs when an imported module cannot be found or loaded. \n",
    "\n",
    "# it can be raised in various situation like:\n",
    "\n",
    "# a. The module or package name is misspelled.\n",
    "\n",
    "# b. The module or package is not installed or available in the Python environment.\n",
    "\n",
    "# c. There is an issue with the module's code or dependencies.\n",
    "\n",
    "try:\n",
    "    import notexistingfile\n",
    "except ImportError as e:\n",
    "    print('import error:',e)\n",
    "    \n",
    "    \n",
    "# ModuleNotFoundError is a more specific exception that inherits from ImportError.\n",
    "\n",
    "try:\n",
    "    import modulenotfound\n",
    "except ModuleNotFoundError as e:\n",
    "    print('module not found error :',e)"
   ]
  },
  {
   "cell_type": "code",
   "execution_count": null,
   "id": "cf2d3f14",
   "metadata": {},
   "outputs": [],
   "source": [
    "# Q6. List down some best practices for exception handling in python.\n",
    "\n",
    "# some best praactice for exception handling is avoid writing the exceptions like 'Exception' or 'BaseException',always specify the proper name of the exception.\n",
    "\n",
    "# Always use finally block in the last of the exception block.\n",
    "\n",
    "# always avoid to use bare except statements,use proper exception after the except block.\n",
    "\n",
    "# Handle exceptions at the appropriate level in your code. If a function can handle an exception, handle it there. \n",
    "\n",
    "# Otherwise, let it propagate to the calling code that can handle it appropriately.\n",
    "\n",
    "# These are some list of some best practice for exception handeling."
   ]
  }
 ],
 "metadata": {
  "kernelspec": {
   "display_name": "Python 3 (ipykernel)",
   "language": "python",
   "name": "python3"
  },
  "language_info": {
   "codemirror_mode": {
    "name": "ipython",
    "version": 3
   },
   "file_extension": ".py",
   "mimetype": "text/x-python",
   "name": "python",
   "nbconvert_exporter": "python",
   "pygments_lexer": "ipython3",
   "version": "3.9.13"
  }
 },
 "nbformat": 4,
 "nbformat_minor": 5
}

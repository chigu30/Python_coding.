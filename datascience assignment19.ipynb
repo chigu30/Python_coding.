{
 "cells": [
  {
   "cell_type": "code",
   "execution_count": 2,
   "id": "26bd2a8b",
   "metadata": {},
   "outputs": [
    {
     "name": "stdout",
     "output_type": "stream",
     "text": [
      "0     4\n",
      "1     8\n",
      "2    15\n",
      "3    16\n",
      "4    23\n",
      "5    42\n",
      "dtype: int64\n"
     ]
    }
   ],
   "source": [
    "# Q1. Create a Pandas Series that contains the following data: 4, 8, 15, 16, 23, and 42. Then, print the series.\n",
    "\n",
    "import pandas as pd\n",
    "\n",
    "data = [4,8,15,16,23,42]\n",
    "\n",
    "series = pd.Series(data)\n",
    "\n",
    "print(series)"
   ]
  },
  {
   "cell_type": "code",
   "execution_count": 3,
   "id": "e710d4a9",
   "metadata": {},
   "outputs": [
    {
     "name": "stdout",
     "output_type": "stream",
     "text": [
      "0     1\n",
      "1    11\n",
      "2    22\n",
      "3    33\n",
      "4    44\n",
      "5    55\n",
      "6    66\n",
      "7    77\n",
      "8    88\n",
      "9    99\n",
      "dtype: int64\n"
     ]
    }
   ],
   "source": [
    "# Q2. Create a variable of list type containing 10 elements in it, and apply pandas.Series function on\n",
    "# the variable print it.\n",
    "\n",
    "my_list = [1,11,22,33,44,55,66,77,88,99]\n",
    "\n",
    "series1 = pd.Series(my_list)\n",
    "\n",
    "print(series1)"
   ]
  },
  {
   "cell_type": "code",
   "execution_count": 4,
   "id": "a75a3ea9",
   "metadata": {},
   "outputs": [
    {
     "name": "stdout",
     "output_type": "stream",
     "text": [
      "     name  age  gender\n",
      "0   Alice   25  Female\n",
      "1     Bob   30    Male\n",
      "2  Claire   27  Female\n"
     ]
    }
   ],
   "source": [
    "# Q3. Create a Pandas DataFrame that contains the following data:\n",
    "\n",
    "data1 = {'name':['Alice',\n",
    "'Bob',\n",
    "'Claire'],'age':[25,\n",
    "30,\n",
    "27],'gender':['Female',\n",
    "'Male',\n",
    "'Female']}\n",
    "\n",
    "df = pd.DataFrame(data1)\n",
    "\n",
    "print(df)"
   ]
  },
  {
   "cell_type": "code",
   "execution_count": 8,
   "id": "6a2260b3",
   "metadata": {},
   "outputs": [
    {
     "name": "stdout",
     "output_type": "stream",
     "text": [
      "     name  age  gender\n",
      "0   Alice   25  Female\n",
      "1     Bob   30    Male\n",
      "2  Claire   27  Female\n",
      "0    gender\n",
      "dtype: object\n"
     ]
    }
   ],
   "source": [
    "# Q4. What is ‘DataFrame’ in pandas and how is it different from pandas.series? Explain with an example.\n",
    "\n",
    "# A pandas dataframe is a 2-d data structure that can store data from different types in columns.\n",
    "# It is most likely to an excel or sql table.\n",
    "# Dataframe can be described as collection of pandas series object.\n",
    "\n",
    "# On the other hand a pandass series is a 1-dimensional data structure that can store data of different types.\n",
    "# It is similar to python list or an array.\n",
    "# Series can be describe as single column of data in a pandas dataframe.\n",
    "\n",
    "# Example:\n",
    "    \n",
    "data1 = {'name':['Alice',\n",
    "'Bob',\n",
    "'Claire'],'age':[25,\n",
    "30,\n",
    "27],'gender':['Female',\n",
    "'Male',\n",
    "'Female']}\n",
    "\n",
    "df = pd.DataFrame(data1)\n",
    "Gender_series = pd.Series('gender')\n",
    "\n",
    "print(df)\n",
    "print(Gender_series)"
   ]
  },
  {
   "cell_type": "code",
   "execution_count": 13,
   "id": "3c079c07",
   "metadata": {},
   "outputs": [
    {
     "name": "stdout",
     "output_type": "stream",
     "text": [
      "    name  age  gender\n",
      "0  Alice   25  Female\n",
      "1    Bob   30    Male\n"
     ]
    }
   ],
   "source": [
    "# Q5. What are some common functions you can use to manipulate data in a Pandas DataFrame? Can\n",
    "# you give an example of when you might use one of these functions?\n",
    "\n",
    "# There are many function we can use to manipulate the data in a pandas Dataframe.\n",
    "# Here are some example:\n",
    "    \n",
    "#     head() : It returns the first five or n rows we want of the data frame.\n",
    "#     tail() : It returns the last five or n rows we want of the data frame.\n",
    "#     describe(): It generates descriptive statistics of the data frame.\n",
    "#     info() : It prints a summary of the dataframe.\n",
    "# example:\n",
    "    \n",
    "df_head = df.head(2)\n",
    "\n",
    "print(df_head)"
   ]
  },
  {
   "cell_type": "code",
   "execution_count": 26,
   "id": "60e874b7",
   "metadata": {},
   "outputs": [],
   "source": [
    "# Q6. Which of the following is mutable in nature Series, DataFrame, Panel?\n",
    "\n",
    "# All pandas data structures are value mutable and except series all are size mutable.\n",
    "\n",
    "# So the answer is Dataframe and Panel"
   ]
  },
  {
   "cell_type": "code",
   "execution_count": 25,
   "id": "4570ff0e",
   "metadata": {},
   "outputs": [
    {
     "name": "stdout",
     "output_type": "stream",
     "text": [
      "        0           1           2\n",
      "0    name  laxmikanta  subhashree\n",
      "1  gender        male      female\n",
      "2     age          23          23\n"
     ]
    }
   ],
   "source": [
    "# Q7. Create a DataFrame using multiple Series. Explain with an example.\n",
    "\n",
    "data2 = ['name','gender','age']\n",
    "data3 = ['laxmikanta','male',23]\n",
    "data4 = ['subhashree','female',23]\n",
    "\n",
    "d1 = pd.Series(data2)\n",
    "d2 = pd.Series(data3)\n",
    "d3 = pd.Series(data4)\n",
    "\n",
    "data_Frame = pd.concat([d1,d2,d3],axis=1)\n",
    "\n",
    "print(data_Frame)"
   ]
  }
 ],
 "metadata": {
  "kernelspec": {
   "display_name": "Python 3 (ipykernel)",
   "language": "python",
   "name": "python3"
  },
  "language_info": {
   "codemirror_mode": {
    "name": "ipython",
    "version": 3
   },
   "file_extension": ".py",
   "mimetype": "text/x-python",
   "name": "python",
   "nbconvert_exporter": "python",
   "pygments_lexer": "ipython3",
   "version": "3.9.13"
  }
 },
 "nbformat": 4,
 "nbformat_minor": 5
}

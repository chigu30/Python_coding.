{
 "cells": [
  {
   "cell_type": "code",
   "execution_count": 4,
   "id": "869ab065",
   "metadata": {},
   "outputs": [],
   "source": [
    "# Q1. Create an empty list.\n",
    "\n",
    "empty_list = []"
   ]
  },
  {
   "cell_type": "code",
   "execution_count": 7,
   "id": "ff0eed10",
   "metadata": {},
   "outputs": [
    {
     "name": "stdout",
     "output_type": "stream",
     "text": [
      "['laxmi', 'friend', 'of', 'mine', 234, 56.789, True, 'this is actually false']\n"
     ]
    }
   ],
   "source": [
    "# Q2. Create a list and add an element to the end of this list.\n",
    "\n",
    "create_a_list = ['laxmi','friend','of','mine',234,56.789,True]\n",
    "\n",
    "create_a_list.append('this is actually false')\n",
    "\n",
    "print(create_a_list)"
   ]
  },
  {
   "cell_type": "code",
   "execution_count": 8,
   "id": "0cf1623c",
   "metadata": {},
   "outputs": [
    {
     "name": "stdout",
     "output_type": "stream",
     "text": [
      "this is actually false\n"
     ]
    }
   ],
   "source": [
    "# Q3. For the above created list print the last element.\n",
    "\n",
    "print(create_a_list[7])"
   ]
  },
  {
   "cell_type": "code",
   "execution_count": 11,
   "id": "4251d5f8",
   "metadata": {},
   "outputs": [
    {
     "name": "stdout",
     "output_type": "stream",
     "text": [
      "['this is actually false', True, 56.789, 234, 'mine', 'of', 'friend', 'laxmi']\n"
     ]
    }
   ],
   "source": [
    "# Q4. Reverse the above created list.\n",
    "\n",
    "print(create_a_list[::-1])"
   ]
  },
  {
   "cell_type": "code",
   "execution_count": 13,
   "id": "755ca632",
   "metadata": {},
   "outputs": [
    {
     "name": "stdout",
     "output_type": "stream",
     "text": [
      "[0, 1, 2, 3, 4, 5, 6, 7, 8, 9]\n"
     ]
    }
   ],
   "source": [
    "# Q5. Sort the above created list.\n",
    "\n",
    "my_list =[5,4,7,6,1,3,2,9,0,8]\n",
    "\n",
    "my_list.sort()\n",
    "\n",
    "print(my_list)"
   ]
  },
  {
   "cell_type": "code",
   "execution_count": 14,
   "id": "0231cea4",
   "metadata": {},
   "outputs": [
    {
     "name": "stdout",
     "output_type": "stream",
     "text": [
      "pirates of the caribbean\n"
     ]
    }
   ],
   "source": [
    "# Q6. Create a list of your top three favorite movies, then print the second movie title.\n",
    "\n",
    "movie_list = ['drishyam','pirates of the caribbean','ddlj']\n",
    "\n",
    "print(movie_list[1])"
   ]
  },
  {
   "cell_type": "code",
   "execution_count": 20,
   "id": "7475880a",
   "metadata": {},
   "outputs": [
    {
     "name": "stdout",
     "output_type": "stream",
     "text": [
      "['tiger', 'giraffe', 'elephant', 'lion']\n"
     ]
    }
   ],
   "source": [
    "# Q7. Create a list of your favorite animals, then add a new animal to the list and print the updated list.\n",
    "\n",
    "favorite_animals =['tiger','giraffe','elephant']\n",
    "\n",
    "favorite_animals.append('lion')\n",
    "\n",
    "print(favorite_animals)\n"
   ]
  },
  {
   "cell_type": "code",
   "execution_count": 21,
   "id": "09d8959d",
   "metadata": {},
   "outputs": [
    {
     "name": "stdout",
     "output_type": "stream",
     "text": [
      "1\n"
     ]
    }
   ],
   "source": [
    "# Q8. Create a list of your favorite cities, then use the index() method to find the position of a specific city on the list and print it.\n",
    "\n",
    "favorite_cities = ['cuttack','bhubaneswar','nagpur','pondicherry','bengaluru']\n",
    "\n",
    "city = 'bhubaneswar'\n",
    "\n",
    "position = favorite_cities.index(city)\n",
    "\n",
    "print(position)"
   ]
  },
  {
   "cell_type": "code",
   "execution_count": null,
   "id": "e88848ed",
   "metadata": {},
   "outputs": [],
   "source": []
  }
 ],
 "metadata": {
  "kernelspec": {
   "display_name": "Python 3 (ipykernel)",
   "language": "python",
   "name": "python3"
  },
  "language_info": {
   "codemirror_mode": {
    "name": "ipython",
    "version": 3
   },
   "file_extension": ".py",
   "mimetype": "text/x-python",
   "name": "python",
   "nbconvert_exporter": "python",
   "pygments_lexer": "ipython3",
   "version": "3.9.13"
  }
 },
 "nbformat": 4,
 "nbformat_minor": 5
}

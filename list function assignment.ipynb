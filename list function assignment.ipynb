{
 "cells": [
  {
   "cell_type": "code",
   "execution_count": 3,
   "id": "d66835f1",
   "metadata": {},
   "outputs": [
    {
     "name": "stdout",
     "output_type": "stream",
     "text": [
      "['abc', 'def', 'ghi', 'jkl', 'mno', 'pqr']\n"
     ]
    }
   ],
   "source": [
    "# Q1. What is the syntax for adding an element to a list in Python?\n",
    "\n",
    "# We can add an element to a list in various types , some are :\n",
    "\n",
    "list_name = ['def','ghi','jkl','mno']\n",
    "\n",
    "list_name.insert(0,'abc')\n",
    "\n",
    "list_name.append('pqr')\n",
    "\n",
    "print (list_name)"
   ]
  },
  {
   "cell_type": "code",
   "execution_count": 4,
   "id": "d1895a72",
   "metadata": {},
   "outputs": [],
   "source": [
    "# Q2. What is the difference between remove() and pop() functions in Python?\n",
    "\n",
    "# The major difference between the pop() method and the remove() method is that the pop() method uses the index of an element to delete it while the remove() method takes the value of the element as an input argument to delete the element ."
   ]
  },
  {
   "cell_type": "code",
   "execution_count": 8,
   "id": "4aebbfca",
   "metadata": {},
   "outputs": [
    {
     "name": "stdout",
     "output_type": "stream",
     "text": [
      "['pqr', 'mno', 'jkl', 'ghi', 'def', 'abc']\n"
     ]
    }
   ],
   "source": [
    "# Q3. Write a Python code to sort a list in descending order.\n",
    "\n",
    "list_name.sort(reverse=True)\n",
    "\n",
    "print(list_name)"
   ]
  },
  {
   "cell_type": "code",
   "execution_count": 9,
   "id": "8ecc593d",
   "metadata": {},
   "outputs": [
    {
     "data": {
      "text/plain": [
       "1"
      ]
     },
     "execution_count": 9,
     "metadata": {},
     "output_type": "execute_result"
    }
   ],
   "source": [
    "# Q4. Write a Python code to count the number of occurrences of an element in a list.\n",
    "\n",
    "list_name.count('abc')"
   ]
  },
  {
   "cell_type": "code",
   "execution_count": 11,
   "id": "4eccd652",
   "metadata": {},
   "outputs": [
    {
     "name": "stdout",
     "output_type": "stream",
     "text": [
      "['pqr', 'mno', 'jkl', 'ghi', 'def', 'abc']\n"
     ]
    }
   ],
   "source": [
    "# Q5. Write a Python code to reverse a list.\n",
    "\n",
    "list_name.reverse()\n",
    "\n",
    "print(list_name)"
   ]
  },
  {
   "cell_type": "code",
   "execution_count": null,
   "id": "fce27d44",
   "metadata": {},
   "outputs": [],
   "source": []
  }
 ],
 "metadata": {
  "kernelspec": {
   "display_name": "Python 3 (ipykernel)",
   "language": "python",
   "name": "python3"
  },
  "language_info": {
   "codemirror_mode": {
    "name": "ipython",
    "version": 3
   },
   "file_extension": ".py",
   "mimetype": "text/x-python",
   "name": "python",
   "nbconvert_exporter": "python",
   "pygments_lexer": "ipython3",
   "version": "3.9.13"
  }
 },
 "nbformat": 4,
 "nbformat_minor": 5
}

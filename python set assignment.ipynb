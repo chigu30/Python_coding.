{
 "cells": [
  {
   "cell_type": "code",
   "execution_count": 1,
   "id": "5b2cb355",
   "metadata": {},
   "outputs": [],
   "source": [
    "# Q1. What is a set in Python?\n",
    "\n",
    "# A set is an unordered collection of unique elements in Python."
   ]
  },
  {
   "cell_type": "code",
   "execution_count": 10,
   "id": "a2cff2a3",
   "metadata": {},
   "outputs": [
    {
     "name": "stdout",
     "output_type": "stream",
     "text": [
      "{1, 2, 3}\n",
      "{1, 2, 3}\n"
     ]
    }
   ],
   "source": [
    "# Q2.How do you create a set in Python?\n",
    "\n",
    "# We can create a set in Python by enclosing a comma-separated sequence of elements in curly braces {}. You can also use the built-in set() function to create a set. The set() function takes any number of arguments, which are all items that will be added to the set. Here are some examples:\n",
    "\n",
    "# Creating a set using curly braces\n",
    "\n",
    "my_set = {1, 2, 3}\n",
    "\n",
    "print(my_set) \n",
    "\n",
    "# Creating a set using the set() function\n",
    "\n",
    "your_set = set([1, 2, 3])\n",
    "\n",
    "print(your_set) \n"
   ]
  },
  {
   "cell_type": "code",
   "execution_count": 11,
   "id": "b2008bad",
   "metadata": {},
   "outputs": [
    {
     "name": "stdout",
     "output_type": "stream",
     "text": [
      "{1, 2, 3, 4}\n",
      "{1, 2, 3, 5, 6, 7}\n"
     ]
    }
   ],
   "source": [
    "# Q3. How do you add elements to a set in Python?\n",
    "\n",
    "# We can add elements to a set in Python using the built-in add() method. The add() method adds an element to the set if it is not already present. Here’s an example:\n",
    "\n",
    "my_set.add(4)\n",
    "\n",
    "print(my_set)\n",
    "\n",
    "# We can also add multiple elements to a set using the built-in update() method. The update() method takes an iterable as an argument and adds each element of the iterable to the set. Here’s an example:\n",
    "\n",
    "your_set.update([5,6,7])\n",
    "\n",
    "print(your_set)"
   ]
  },
  {
   "cell_type": "code",
   "execution_count": 12,
   "id": "3ccbc17b",
   "metadata": {},
   "outputs": [
    {
     "name": "stdout",
     "output_type": "stream",
     "text": [
      "{1, 3, 4}\n",
      "{1, 2, 3, 6, 7}\n"
     ]
    }
   ],
   "source": [
    "# Q4. How do you remove elements from a set in Python?\n",
    "\n",
    "# We can remove elements from a set in Python using the built-in remove() method. The remove() method removes the specified element from the set. Here’s an example:\n",
    "\n",
    "my_set.remove(2)\n",
    "\n",
    "print(my_set)\n",
    "\n",
    "# If We try to remove an element that is not present in the set, you will get a KeyError. To avoid this error, you can use the built-in discard() method instead. The discard() method removes the specified element from the set if it is present. Here’s an example:\n",
    "\n",
    "your_set.discard(5)\n",
    "\n",
    "print(your_set)"
   ]
  },
  {
   "cell_type": "code",
   "execution_count": 14,
   "id": "bd1a1901",
   "metadata": {},
   "outputs": [
    {
     "name": "stdout",
     "output_type": "stream",
     "text": [
      "3\n"
     ]
    }
   ],
   "source": [
    "# Q5. How do you get the length of a set in Python?\n",
    "\n",
    "# You can get the length of a set in Python using the built-in len() function. The len() function returns the number of elements in the set. Here’s an example:\n",
    "\n",
    "print(len(my_set))"
   ]
  },
  {
   "cell_type": "code",
   "execution_count": null,
   "id": "9accf893",
   "metadata": {},
   "outputs": [],
   "source": []
  }
 ],
 "metadata": {
  "kernelspec": {
   "display_name": "Python 3 (ipykernel)",
   "language": "python",
   "name": "python3"
  },
  "language_info": {
   "codemirror_mode": {
    "name": "ipython",
    "version": 3
   },
   "file_extension": ".py",
   "mimetype": "text/x-python",
   "name": "python",
   "nbconvert_exporter": "python",
   "pygments_lexer": "ipython3",
   "version": "3.9.13"
  }
 },
 "nbformat": 4,
 "nbformat_minor": 5
}

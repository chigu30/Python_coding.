{
 "cells": [
  {
   "cell_type": "code",
   "execution_count": 1,
   "id": "80ffed52",
   "metadata": {},
   "outputs": [],
   "source": [
    "# Q1. Write all the conventions being followed while declaring a variable.\n",
    "\n",
    "# In Python, there are several conventions that are typically followed when declaring a variable. Here are some of the most common ones:\n",
    "\n",
    "# Variable names should be descriptive and meaningful.\n",
    "# Variable names should be written in lowercase letters with words separated by underscores (snake_case).\n",
    "# Variable names should not start with a number.\n",
    "# Variable names should not use special characters other than underscores.\n",
    "# Constants should be written in all capital letters with words separated by underscores.\n"
   ]
  },
  {
   "cell_type": "code",
   "execution_count": 2,
   "id": "cc75b954",
   "metadata": {},
   "outputs": [],
   "source": [
    "# Q2. What will happen if we declare a restricted keyword as a variable?\n",
    "\n",
    "# If we try to declare a variable with a keyword as its name, we will get a syntax error."
   ]
  },
  {
   "cell_type": "code",
   "execution_count": 3,
   "id": "18c66984",
   "metadata": {},
   "outputs": [],
   "source": [
    "# Q3. Can we actually declare a string as a variable name?\n",
    "\n",
    "# Yes, we can declare a string as a variable name in Python."
   ]
  },
  {
   "cell_type": "code",
   "execution_count": 4,
   "id": "d1d27785",
   "metadata": {},
   "outputs": [
    {
     "name": "stdout",
     "output_type": "stream",
     "text": [
      "laxmikanta\n"
     ]
    }
   ],
   "source": [
    "# Q4. Is it possible for us to declare “_” as a variable? If so, then write an example of it.\n",
    "\n",
    "\n",
    "# Yes, it is possible to declare _ as a variable in Python.\n",
    "\n",
    "_ = 'laxmikanta'\n",
    "print(_)"
   ]
  },
  {
   "cell_type": "code",
   "execution_count": 10,
   "id": "efefc967",
   "metadata": {},
   "outputs": [
    {
     "name": "stdout",
     "output_type": "stream",
     "text": [
      "5\n"
     ]
    },
    {
     "data": {
      "text/plain": [
       "int"
      ]
     },
     "execution_count": 10,
     "metadata": {},
     "output_type": "execute_result"
    }
   ],
   "source": [
    "# Q5. Using an example, explain how the variables in python are dynamic in nature.\n",
    "\n",
    "# In Python, variables are dynamic in nature. This means that the data type of a variable is determined by the value assigned to it. For example, if you assign an integer value to a variable, it becomes an integer variable. If you then assign a string value to the same variable, it becomes a string variable.\n",
    "\n",
    "# Here is an example of how variables are dynamic in nature:\n",
    "\n",
    "x = 5\n",
    "\n",
    "print(x)\n",
    "\n",
    "type(x)"
   ]
  },
  {
   "cell_type": "code",
   "execution_count": 11,
   "id": "e70ed312",
   "metadata": {},
   "outputs": [
    {
     "name": "stdout",
     "output_type": "stream",
     "text": [
      "laxmikanta\n"
     ]
    },
    {
     "data": {
      "text/plain": [
       "str"
      ]
     },
     "execution_count": 11,
     "metadata": {},
     "output_type": "execute_result"
    }
   ],
   "source": [
    "x = 'laxmikanta'\n",
    "\n",
    "print(x)\n",
    "\n",
    "type(x)"
   ]
  },
  {
   "cell_type": "code",
   "execution_count": null,
   "id": "d18b36a6",
   "metadata": {},
   "outputs": [],
   "source": []
  }
 ],
 "metadata": {
  "kernelspec": {
   "display_name": "Python 3 (ipykernel)",
   "language": "python",
   "name": "python3"
  },
  "language_info": {
   "codemirror_mode": {
    "name": "ipython",
    "version": 3
   },
   "file_extension": ".py",
   "mimetype": "text/x-python",
   "name": "python",
   "nbconvert_exporter": "python",
   "pygments_lexer": "ipython3",
   "version": "3.9.13"
  }
 },
 "nbformat": 4,
 "nbformat_minor": 5
}

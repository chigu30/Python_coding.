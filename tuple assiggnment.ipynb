{
 "cells": [
  {
   "cell_type": "code",
   "execution_count": 1,
   "id": "b174db31",
   "metadata": {},
   "outputs": [],
   "source": [
    "# Q1. What is a tuple in Python?\n",
    "\n",
    "#In Python, a tuple is one of the four built-in data types used to store collections of data. A tuple is a collection which is ordered and unchangeable. Tuples are written with round brackets. Once data is assigned to a tuple, the values cannot be changed."
   ]
  },
  {
   "cell_type": "code",
   "execution_count": 3,
   "id": "ca307ac2",
   "metadata": {},
   "outputs": [
    {
     "name": "stdout",
     "output_type": "stream",
     "text": [
      "('apple', 'banana', 'cherry')\n"
     ]
    }
   ],
   "source": [
    "# Q2. How do you create a tuple in Python?\n",
    "\n",
    "# To create a tuple in Python, you can use the () operator. Here’s an example:\n",
    "\n",
    "my_tuple = (\"apple\", \"banana\", \"cherry\")\n",
    "\n",
    "print(my_tuple)"
   ]
  },
  {
   "cell_type": "code",
   "execution_count": 4,
   "id": "20848e9c",
   "metadata": {},
   "outputs": [],
   "source": [
    "# Q3. What is the difference between a tuple and a list in Python?\n",
    "\n",
    "# The main difference between a tuple and a list in Python is that a tuple is immutable while a list is mutable. This means that once you create a tuple, you cannot change its values. In contrast, you can add, remove, or modify elements in a list."
   ]
  },
  {
   "cell_type": "code",
   "execution_count": 5,
   "id": "a73835b7",
   "metadata": {},
   "outputs": [],
   "source": [
    "# Q4. Can a tuple be changed in Python?\n",
    "\n",
    "# No, a tuple is immutable in Python. Once you create a tuple, you cannot change its values ."
   ]
  },
  {
   "cell_type": "code",
   "execution_count": 6,
   "id": "ee82a018",
   "metadata": {},
   "outputs": [
    {
     "data": {
      "text/plain": [
       "[('apple', 'banana', 'cherry')]"
      ]
     },
     "execution_count": 6,
     "metadata": {},
     "output_type": "execute_result"
    }
   ],
   "source": [
    "# Q5. How do you access elements in a tuple?\n",
    "\n",
    "# The basic way to access an element in a tuple, use square brackets and the index of the element.\n",
    "\n",
    "#like\n",
    "\n",
    "[my_tuple]"
   ]
  },
  {
   "cell_type": "code",
   "execution_count": 7,
   "id": "e9b41576",
   "metadata": {},
   "outputs": [
    {
     "name": "stdout",
     "output_type": "stream",
     "text": [
      "0\n",
      "1\n",
      "2\n",
      "3\n"
     ]
    }
   ],
   "source": [
    "# Q6. How do you unpack a tuple in Python?\n",
    "\n",
    "# Unpacking a tuple means splitting the tuple’s elements into individual variables.\n",
    "\n",
    "# Unpacking a tuple\n",
    "\n",
    "tuple1 = (0, 1, 2, 3)\n",
    "\n",
    "a, b, c, d = tuple1\n",
    "\n",
    "print(a)\n",
    "print(b)\n",
    "print(c)\n",
    "print(d) "
   ]
  }
 ],
 "metadata": {
  "kernelspec": {
   "display_name": "Python 3 (ipykernel)",
   "language": "python",
   "name": "python3"
  },
  "language_info": {
   "codemirror_mode": {
    "name": "ipython",
    "version": 3
   },
   "file_extension": ".py",
   "mimetype": "text/x-python",
   "name": "python",
   "nbconvert_exporter": "python",
   "pygments_lexer": "ipython3",
   "version": "3.9.13"
  }
 },
 "nbformat": 4,
 "nbformat_minor": 5
}
